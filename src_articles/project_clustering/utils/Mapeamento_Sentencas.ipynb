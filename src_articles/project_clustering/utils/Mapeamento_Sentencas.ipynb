{
 "cells": [
  {
   "cell_type": "markdown",
   "metadata": {},
   "source": [
    "# Mapeamento da sentencas para os termos"
   ]
  },
  {
   "cell_type": "code",
   "execution_count": 1,
   "metadata": {},
   "outputs": [],
   "source": [
    "from textblob import TextBlob\n",
    "import ast\n",
    "from tqdm import tqdm\n",
    "import json"
   ]
  },
  {
   "cell_type": "code",
   "execution_count": 6,
   "metadata": {},
   "outputs": [],
   "source": [
    "# Diretorio gabaritos\n",
    "source_words = ['../../datasets/gabaritos/DadosCamera.txt', '../../datasets/gabaritos/DadosCells.txt', '../../datasets/gabaritos/DadosDvds.txt', '../../datasets/gabaritos/DadosLaptops.txt', '../../datasets/gabaritos/DadosRouters.txt']\n",
    "\n",
    "# Diretório dos arquivos das sentencas\n",
    "documents = ['sentencas-camera.txt','sentencas-cells.txt','sentencas-dvds.txt','sentencas-laptops.txt','sentencas-routers.txt']\n",
    "# Diretóriode dos arquivos mapeados\n",
    "save_map = ['mapeamentos-camera.json','mapeamentos-cells.json','mapeamentos-dvds.json','mapeamentos-laptops.json','mapeamentos-routers.json']\n",
    "\n",
    "# Diretório dos arquivos de contextualização\n",
    "save_context = ['contextualizacao-camera.json','contextualizacao-cells.json','contextualizacao-dvds.json','contextualizacao-laptops.json','contextualizacao-routers.json']"
   ]
  },
  {
   "cell_type": "markdown",
   "metadata": {},
   "source": [
    "## Processamento do algoritmo"
   ]
  },
  {
   "cell_type": "code",
   "execution_count": 14,
   "metadata": {},
   "outputs": [
    {
     "name": "stdout",
     "output_type": "stream",
     "text": [
      "Salvando os dados Mapeados\n",
      "Salvando a matriz de contexto\n",
      "Salvando os dados Mapeados\n",
      "Salvando a matriz de contexto\n",
      "Salvando os dados Mapeados\n",
      "Salvando a matriz de contexto\n",
      "Salvando os dados Mapeados\n",
      "Salvando a matriz de contexto\n",
      "Salvando os dados Mapeados\n",
      "Salvando a matriz de contexto\n"
     ]
    }
   ],
   "source": [
    "for index, value in enumerate(documents):\n",
    "    words = [] #variavel que guarda as palavras do dominio\n",
    "    context = {} #variavel que mapeia os atributos para os documentos\n",
    "    maps = {} #variavel que mapeia os atributos para as sentencas que ele aparece\n",
    "    \n",
    "    #Obtem-se todas as palaras que serão agrupadas - nosso vocabuláraio\n",
    "    arq = open(source_words[index], 'r')\n",
    "    for line in arq.readlines():\n",
    "        word = line.split(':')[1]\n",
    "        word = ast.literal_eval(word)\n",
    "        word = list(word)\n",
    "        words.extend(word)\n",
    "    arq.close()\n",
    "    \n",
    "    words.sort()\n",
    "    \n",
    "    #obtendo sentencas/documentos do dominio\n",
    "    arq = open('../../datasets_processed/sentencas/' + documents[index], 'r')\n",
    "    text = arq.readlines()\n",
    "    arq.close()\n",
    "    \n",
    "    for word in words:\n",
    "        docs = []\n",
    "        sents = []\n",
    "        maps[word] = set()\n",
    "        \n",
    "        for line in text:\n",
    "            if line != '\\n':\n",
    "                line = line.strip().lower()\n",
    "                if line.count(word) > 0:\n",
    "                    sents.append(line.strip())\n",
    "                    maps[word].add(line.strip()) # mapenado setenca para o atributo\n",
    "            else:\n",
    "                docs.append(sents)\n",
    "                sents = []\n",
    "                \n",
    "        context[word] = docs\n",
    "    \n",
    "    print(\"Salvando os dados Mapeados\")\n",
    "    with open('../../datasets_processed/mapeamentos/' + save_map[index], 'w') as fp:\n",
    "        data = {}\n",
    "        for key in sorted(maps.keys()):\n",
    "            #print(maps[key])\n",
    "            #str_val = \" \".join(map(str,set_val))\n",
    "            data[key] = list(maps[key])\n",
    "            \n",
    "        json.dump(data, fp)\n",
    "        \n",
    "    print(\"Salvando a matriz de contexto\")\n",
    "    with open('../../datasets_processed/contextualizacao/' + save_context[index], 'w') as fp:\n",
    "        data = {}\n",
    "        for key in sorted(context.keys()):\n",
    "            data[key] = context[key]\n",
    "        json.dump(data, fp)"
   ]
  },
  {
   "cell_type": "code",
   "execution_count": null,
   "metadata": {},
   "outputs": [],
   "source": []
  },
  {
   "cell_type": "code",
   "execution_count": null,
   "metadata": {},
   "outputs": [],
   "source": []
  },
  {
   "cell_type": "code",
   "execution_count": null,
   "metadata": {},
   "outputs": [],
   "source": []
  },
  {
   "cell_type": "code",
   "execution_count": null,
   "metadata": {},
   "outputs": [],
   "source": []
  },
  {
   "cell_type": "code",
   "execution_count": null,
   "metadata": {},
   "outputs": [],
   "source": []
  }
 ],
 "metadata": {
  "kernelspec": {
   "display_name": "Python 3",
   "language": "python",
   "name": "python3"
  },
  "language_info": {
   "codemirror_mode": {
    "name": "ipython",
    "version": 3
   },
   "file_extension": ".py",
   "mimetype": "text/x-python",
   "name": "python",
   "nbconvert_exporter": "python",
   "pygments_lexer": "ipython3",
   "version": "3.6.12"
  }
 },
 "nbformat": 4,
 "nbformat_minor": 4
}
