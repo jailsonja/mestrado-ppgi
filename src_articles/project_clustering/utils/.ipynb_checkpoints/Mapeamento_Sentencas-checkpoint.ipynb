{
 "cells": [
  {
   "cell_type": "markdown",
   "metadata": {},
   "source": [
    "# Mapeamento da sentencas para os termos"
   ]
  },
  {
   "cell_type": "code",
   "execution_count": 1,
   "metadata": {},
   "outputs": [],
   "source": [
    "from textblob import TextBlob\n",
    "import ast\n",
    "from tqdm import tqdm\n",
    "import json"
   ]
  },
  {
   "cell_type": "code",
   "execution_count": 2,
   "metadata": {},
   "outputs": [],
   "source": [
    "# Diretorio gabaritos\n",
    "source_words = ['../../datasets/gabaritos/DadosCamera.txt', '../../datasets/gabaritos/DadosCells.txt', '../../datasets/gabaritos/DadosDvds.txt', '../../datasets/gabaritos/DadosLaptops.txt', '../../datasets/gabaritos/DadosRouters.txt']\n",
    "\n",
    "# Diretório dos arquivos das sentencas\n",
    "documents = ['sentencas-camera.txt','sentencas-cells.txt','sentencas-dvds.txt','sentencas-laptops.txt','sentencas-routers.txt']\n",
    "# Diretóriode dos arquivos mapeados\n",
    "save_map = ['mapeamentos-camera.json','mapeamentos-cells.json','mapeamentos-dvds.json','mapeamentos-laptops.json','mapeamentos-routers.json']\n",
    "\n",
    "# Diretório dos arquivos de contextualização\n",
    "save_context = ['contextualizacao-camera.txt','contextualizacao-cells.txt','contextualizacao-dvds.txt','contextualizacao-laptops.txt','contextualizacao-routers.txt']"
   ]
  },
  {
   "cell_type": "markdown",
   "metadata": {},
   "source": [
    "## Processamento do algoritmo"
   ]
  },
  {
   "cell_type": "code",
   "execution_count": 3,
   "metadata": {},
   "outputs": [
    {
     "name": "stdout",
     "output_type": "stream",
     "text": [
      "Salvando os dados Mapeados\n",
      "Salvando a matriz de contexto\n"
     ]
    },
    {
     "ename": "TypeError",
     "evalue": "must be str, not list",
     "output_type": "error",
     "traceback": [
      "\u001b[0;31m---------------------------------------------------------------------------\u001b[0m",
      "\u001b[0;31mTypeError\u001b[0m                                 Traceback (most recent call last)",
      "\u001b[0;32m<ipython-input-3-d952a2912c75>\u001b[0m in \u001b[0;36m<module>\u001b[0;34m\u001b[0m\n\u001b[1;32m     46\u001b[0m \u001b[0;34m\u001b[0m\u001b[0m\n\u001b[1;32m     47\u001b[0m     \u001b[0mprint\u001b[0m\u001b[0;34m(\u001b[0m\u001b[0;34m\"Salvando a matriz de contexto\"\u001b[0m\u001b[0;34m)\u001b[0m\u001b[0;34m\u001b[0m\u001b[0;34m\u001b[0m\u001b[0m\n\u001b[0;32m---> 48\u001b[0;31m     \u001b[0;32mwith\u001b[0m \u001b[0mopen\u001b[0m\u001b[0;34m(\u001b[0m\u001b[0;34m'../../datasets_processed/contextualizacao/'\u001b[0m \u001b[0;34m+\u001b[0m \u001b[0msave_context\u001b[0m\u001b[0;34m,\u001b[0m \u001b[0;34m'w'\u001b[0m\u001b[0;34m)\u001b[0m \u001b[0;32mas\u001b[0m \u001b[0mfp\u001b[0m\u001b[0;34m:\u001b[0m\u001b[0;34m\u001b[0m\u001b[0;34m\u001b[0m\u001b[0m\n\u001b[0m\u001b[1;32m     49\u001b[0m         \u001b[0mdata\u001b[0m \u001b[0;34m=\u001b[0m \u001b[0;34m{\u001b[0m\u001b[0;34m}\u001b[0m\u001b[0;34m\u001b[0m\u001b[0;34m\u001b[0m\u001b[0m\n\u001b[1;32m     50\u001b[0m         \u001b[0;32mfor\u001b[0m \u001b[0mkey\u001b[0m \u001b[0;32min\u001b[0m \u001b[0msorted\u001b[0m\u001b[0;34m(\u001b[0m\u001b[0mcontext\u001b[0m\u001b[0;34m.\u001b[0m\u001b[0mkeys\u001b[0m\u001b[0;34m(\u001b[0m\u001b[0;34m)\u001b[0m\u001b[0;34m)\u001b[0m\u001b[0;34m:\u001b[0m\u001b[0;34m\u001b[0m\u001b[0;34m\u001b[0m\u001b[0m\n",
      "\u001b[0;31mTypeError\u001b[0m: must be str, not list"
     ]
    }
   ],
   "source": [
    "for index, value in enumerate(documents):\n",
    "    words = [] #variavel que guarda as palavras do dominio\n",
    "    context = {} #variavel que mapeia os atributos para os documentos\n",
    "    maps = {} #variavel que mapeia os atributos para as sentencas que ele aparece\n",
    "    \n",
    "    #Obtem-se todas as palaras que serão agrupadas - nosso vocabuláraio\n",
    "    arq = open(source_words[index], 'r')\n",
    "    for line in arq.readlines():\n",
    "        word = line.split(':')[1]\n",
    "        word = ast.literal_eval(word)\n",
    "        word = list(word)\n",
    "        words.extend(word)\n",
    "    arq.close()\n",
    "    \n",
    "    words.sort()\n",
    "    \n",
    "    #obtendo sentencas/documentos do dominio\n",
    "    arq = open('../../datasets_processed/sentencas/' + documents[index], 'r')\n",
    "    text = arq.readlines()\n",
    "    arq.close()\n",
    "    \n",
    "    for word in words:\n",
    "        docs = []\n",
    "        sents = []\n",
    "        maps[word] = set()\n",
    "        \n",
    "        for line in text:\n",
    "            if line != '\\n':\n",
    "                line = line.strip().lower()\n",
    "                if line.count(word) > 0:\n",
    "                    sents.append(line.strip())\n",
    "                    maps[word].add(line.strip()) # mapenado setenca para o atributo\n",
    "            else:\n",
    "                docs.append(sents)\n",
    "                sents = []\n",
    "                \n",
    "        context[word] = docs\n",
    "    \n",
    "    print(\"Salvando os dados Mapeados\")\n",
    "    with open('../../datasets_processed/mapeamentos/' + save_map[index], 'w') as fp:\n",
    "        data = {}\n",
    "        for key in sorted(maps.keys()):\n",
    "            data[key] = context[key]\n",
    "            \n",
    "        json.dump(data, fp)\n",
    "        \n",
    "    print(\"Salvando a matriz de contexto\")\n",
    "    with open('../../datasets_processed/contextualizacao/' + save_context[index], 'w') as fp:\n",
    "        data = {}\n",
    "        for key in sorted(context.keys()):\n",
    "            data[key] = context[key]\n",
    "        json.dump(data, fp)"
   ]
  },
  {
   "cell_type": "code",
   "execution_count": null,
   "metadata": {},
   "outputs": [],
   "source": []
  },
  {
   "cell_type": "code",
   "execution_count": null,
   "metadata": {},
   "outputs": [],
   "source": []
  },
  {
   "cell_type": "code",
   "execution_count": null,
   "metadata": {},
   "outputs": [],
   "source": []
  },
  {
   "cell_type": "code",
   "execution_count": null,
   "metadata": {},
   "outputs": [],
   "source": []
  },
  {
   "cell_type": "code",
   "execution_count": null,
   "metadata": {},
   "outputs": [],
   "source": []
  }
 ],
 "metadata": {
  "kernelspec": {
   "display_name": "Python 3",
   "language": "python",
   "name": "python3"
  },
  "language_info": {
   "codemirror_mode": {
    "name": "ipython",
    "version": 3
   },
   "file_extension": ".py",
   "mimetype": "text/x-python",
   "name": "python",
   "nbconvert_exporter": "python",
   "pygments_lexer": "ipython3",
   "version": "3.6.12"
  }
 },
 "nbformat": 4,
 "nbformat_minor": 4
}
