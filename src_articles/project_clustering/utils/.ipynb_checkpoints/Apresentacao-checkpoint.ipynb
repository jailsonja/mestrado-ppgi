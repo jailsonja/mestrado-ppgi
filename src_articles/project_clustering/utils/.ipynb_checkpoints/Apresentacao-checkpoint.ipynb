{
 "cells": [
  {
   "cell_type": "markdown",
   "metadata": {},
   "source": [
    "# Agoritmo de apresentação\n",
    "\n",
    "Algoritmo que apresenta os grupos como um grafo por meio do algoritmo de geração de MST. Usando o algoritmo de geração de MST, o algoritmo transforma o grupos em MST's."
   ]
  },
  {
   "cell_type": "code",
   "execution_count": null,
   "metadata": {},
   "outputs": [],
   "source": [
    "from graphviz import Graph\n",
    "from textblob import TextBlob\n",
    "import math\n",
    "import ast\n",
    "import numpy as np\n",
    "import json"
   ]
  },
  {
   "cell_type": "markdown",
   "metadata": {},
   "source": [
    "## Métodos e Funções"
   ]
  },
  {
   "cell_type": "code",
   "execution_count": null,
   "metadata": {},
   "outputs": [],
   "source": [
    "#Função que retorna o cosseno entre dois vetores de linha u e v\n",
    "def cosseno(u, v):\n",
    "    #return np.dot(u,v)/math.sqrt(np.dot(u,u)*np.dot(v,v))\n",
    "    return np.dot(u, v)/(np.linalg.norm(u)*np.linalg.norm(v))"
   ]
  },
  {
   "cell_type": "code",
   "execution_count": null,
   "metadata": {},
   "outputs": [],
   "source": [
    "#Função que a retorna a similaridade em relação a matriz G\n",
    "def simG(x, y, G, indices):\n",
    "    i = indices[x]\n",
    "    j = indices[y]\n",
    "    return cosseno(G[i], G[j])"
   ]
  },
  {
   "cell_type": "code",
   "execution_count": null,
   "metadata": {},
   "outputs": [],
   "source": [
    "#Função que a retorna a similaridade em relação a matriz T\n",
    "def simT(x, y, T, indices):\n",
    "    i = indices[x]\n",
    "    j = indices[y]\n",
    "    return cosseno(T[i], T[j])"
   ]
  },
  {
   "cell_type": "code",
   "execution_count": null,
   "metadata": {},
   "outputs": [],
   "source": [
    "#Função que a retorna a similaridade em relação a matriz G e T (coocorrências de duas palavras)\n",
    "def simGT(x, y, G, T, indices):\n",
    "    i = indices[x]\n",
    "    j = indices[y]\n",
    "    return max(cosseno(G[i], T[j]), cosseno(T[i], G[j]))"
   ]
  },
  {
   "cell_type": "code",
   "execution_count": null,
   "metadata": {},
   "outputs": [],
   "source": [
    "#Função que retorna a similaridade entre duas palavras\n",
    "def similarity(x, y, G, T, indices):\n",
    "    wg = 0.2\n",
    "    wt = 0.2\n",
    "    wgt = 0.6\n",
    "    v = (wg*simG(x, y, G, indices)) + (wt*simT(x, y, T, indices)) + (wgt*simGT(x, y, G, T, indices))\n",
    "    return v"
   ]
  },
  {
   "cell_type": "code",
   "execution_count": null,
   "metadata": {},
   "outputs": [],
   "source": [
    "#Método que printa o grafo, cada nó e seus vizinhos\n",
    "def printarGrafo(grafo,diretorio):\n",
    "    g = Graph('Final',filename=diretorio,engine='fdp')\n",
    "    graph = set()\n",
    "    for no in sorted(grafo.keys()):\n",
    "        g.node(no)\n",
    "        for v in grafo[no]:\n",
    "            if((v[0],no) not in graph):\n",
    "                g.edge(no,v[0],label=str(v[1])[:4])\n",
    "                graph.add((no,v[0]))\n",
    "                #print(n, '->', grafo[n])\n",
    "    g.view()"
   ]
  },
  {
   "cell_type": "code",
   "execution_count": null,
   "metadata": {},
   "outputs": [],
   "source": [
    "#Método que busca as arestas dos elementos que sobraram nos agrupamentos\n",
    "#Dado um cluster, a função retorna as arestas daquele agrupamento (um grafo completo)\n",
    "def buscar_arestas(cluster, diretorio, contexto):\n",
    "    nodes = set()\n",
    "    dir_similaridade = diretorio #Diretorio da similaridade\n",
    "    arestas = {} #Variavel que guarda as arestas do grafo\n",
    "    others = [] #Variavel que guarda as palavras que não serão usadas\n",
    "    \n",
    "    with open('../../datasets_processed/similaridades/' + dir_similaridade, 'r') as fp:\n",
    "        data_sim = json.load(fp)\n",
    "        \n",
    "    with open('../../datasets_processed/contextos/' + contexto, 'r') as fp:\n",
    "        data_ctx = json.load(fp)\n",
    "        \n",
    "    for index, key in enumerate(data_sim):\n",
    "        for k, value in data_sim[key].items():\n",
    "            npmi = data_ctx[key][k] # valor coontexto\n",
    "            peso = 0.5*value + 0.5*npmi # valor do peso de uma aresta\n",
    "            \n",
    "            if( key not in others and k not in others):\n",
    "                if(key in cluster and k in cluster):\n",
    "                    if(peso not in arestas.keys()):\n",
    "                        arestas[peso] = []\n",
    "                        \n",
    "                    if((key, k) not in arestas[peso] or (k, key) not in arestas[peso]):\n",
    "                        arestas[peso].append((key, k))\n",
    "                        \n",
    "                    nodes.add(key)\n",
    "                    nodes.add(k)\n",
    "    return arestas, nodes"
   ]
  },
  {
   "cell_type": "code",
   "execution_count": null,
   "metadata": {},
   "outputs": [],
   "source": [
    "def get_arestas(cluster, G, T, indices):\n",
    "    nodes = set()\n",
    "    arestas = {} #Variavel que guarda as arestas do grafo\n",
    "    others = [] #Variavel que guarda as palavras que não serão usadas\n",
    "    \n",
    "    for idx in range(len(cluster)):\n",
    "        a = clustr[i]\n",
    "        for j in range(i+1, len(cluster)):\n",
    "            b = cluster[j]\n",
    "            peso = similarity(a, b, G, T, indices)\n",
    "            if(peso not in arestas.keys()):\n",
    "                arestas[peso] = []\n",
    "            if((a, b) not in arestas[peso] or (b, a) not in arestas[peso]):\n",
    "                arestas[peso].append((a, b))\n",
    "                \n",
    "            nodes.append(a)\n",
    "            nodes.append(b)\n",
    "            \n",
    "    return arestas, nodes"
   ]
  },
  {
   "cell_type": "code",
   "execution_count": null,
   "metadata": {},
   "outputs": [],
   "source": [
    "def MST(arestas, nos):\n",
    "    mst = {} # O grafo gerado da MST\n",
    "    mst_arestas = {} #Arestas da MST\n",
    "    init(nos) # Inicializando o vetor pai[] do Union-Find\n",
    "    \n",
    "    # Ordenação das arestas em ordem decrescente\n",
    "    maximais = sorted(arestas.keys(), reverse=True)\n",
    "    \n",
    "    for m in maximais:\n",
    "        for ar in arestas[m]:\n",
    "            x = ar[0]\n",
    "            y = ar[1]\n",
    "            if(join(x, y)):\n",
    "                if(x not in mst.keys()):\n",
    "                    mst[x] = []\n",
    "                if(y not in mst.keys()):\n",
    "                    mst[y] = []\n",
    "                    \n",
    "                mst[x].append((y, m))\n",
    "                mst[y].append((x, m))\n",
    "                \n",
    "                if(m not in mst_arestas.keys()):\n",
    "                    mst_arestas[m] = []\n",
    "                mst_arestas[m].append((x, y))\n",
    "                \n",
    "    return mst, mst_arestas"
   ]
  },
  {
   "cell_type": "code",
   "execution_count": null,
   "metadata": {},
   "outputs": [],
   "source": [
    "def getMatriz(source):\n",
    "    matriz = []\n",
    "    with open('../../datasets_processed/matrizes/' + source, 'r') as fp:\n",
    "        data = json.load(fp)\n",
    "        \n",
    "    for _, value in data.items():\n",
    "        matriz.append(value)\n",
    "    return matriz"
   ]
  },
  {
   "cell_type": "code",
   "execution_count": null,
   "metadata": {},
   "outputs": [],
   "source": [
    "# Método que retorna o elemento mais frequente em dado grupo de palavras baseado nas frequencias dos termos\n",
    "def maisFrequente(lista,frequencias):\n",
    "    maior_valor = 0\n",
    "    rep = ''\n",
    "    for l in lista:\n",
    "        if(frequencias[l] > maior_valor):\n",
    "            maior_valor = frequencias[l]\n",
    "            rep = l\n",
    "    return rep"
   ]
  },
  {
   "cell_type": "markdown",
   "metadata": {},
   "source": [
    "## Unon Find"
   ]
  },
  {
   "cell_type": "code",
   "execution_count": null,
   "metadata": {},
   "outputs": [],
   "source": [
    "#Inicializando o vetor pai[]\n",
    "def init(nos):\n",
    "    global pai\n",
    "    for n in sorted(nos):\n",
    "        pai[n] = n"
   ]
  },
  {
   "cell_type": "code",
   "execution_count": null,
   "metadata": {},
   "outputs": [],
   "source": [
    "#Método que retorna o pai daquele vertice\n",
    "def findPai(elemento):\n",
    "    global pai\n",
    "    if(pai[elemento] == elemento):\n",
    "        return elemento\n",
    "    pai[elemento] = findPai(pai[elemento])\n",
    "    return pai[elemento]"
   ]
  },
  {
   "cell_type": "code",
   "execution_count": null,
   "metadata": {},
   "outputs": [],
   "source": [
    "#Método que junta dois vertices em uma componente conexa\n",
    "def join(a, b):\n",
    "    global pai\n",
    "    a = findPai(a)\n",
    "    b = findPai(b)\n",
    "    if(a != b):\n",
    "        pai[b] = a\n",
    "        return True\n",
    "    return False"
   ]
  },
  {
   "cell_type": "markdown",
   "metadata": {},
   "source": [
    "## Constantes e variáveis utilizadas\n"
   ]
  },
  {
   "cell_type": "code",
   "execution_count": null,
   "metadata": {},
   "outputs": [],
   "source": [
    "clusteres_alternativo = ['agrupamentos-finais-camera-alternativo.json', 'agrupamentos-finais-cells-alternativo.json', 'agrupamentos-finais-dvds-alternativo.json', 'agrupamentos-finais-laptops-alternativo.json', 'agrupamentos-finais-routers-alternativo.json']\n",
    "\n",
    "similaridades = ['similaridades-camera.json','similaridades-cells.json', 'similaridades-dvds.json', 'similaridades-laptops.json', 'similaridades-routers.json']\n",
    "\n",
    "contextos = ['contexto-camera.json', 'contexto-cells.json', 'contexto-dvds.json', 'contexto-laptops.json', 'contexto-routers.json']\n",
    "\n",
    "gabaritos = ['DadosCamera.txt', 'DadosCells.txt', 'DadosDvds.txt', 'DadosLaptops.txt', 'DadosRouters.txt']\n",
    "\n",
    "caminhos_alternativo = ['grupos-camera-alternativo','grupos-cells-alternativo','grupos-dvds-alternativo','grupos-laptops-alternativo','grupos-routers-alternativo']\n",
    " \n",
    "frequencias = ['frequencia-camera.json', 'frequencia-cells.josn', 'frequencia-dvds.json', 'frequencia-laptops.json', 'frequencia-routers.json']\n",
    "\n",
    "caminhosG = ['similaridades-camera.json', 'similaridades-cells.json', 'similaridades-dvds.json', 'similaridades-laptops.json', 'similaridades-routers.json']\n",
    "\n",
    "caminhosT = ['contextos-camera.json', 'contextos-cells.json', 'contextos-dvds.json', 'contextos-laptops.json', 'contextos-routers.json']\n",
    "\n",
    "mst_save = ['mst-camera','mst-cells','mst-dvds','mst-laptops','mst-routers']\n",
    "\n",
    "k = [9,10,6,12,10] #Numero de grupos por dominio\n",
    "\n",
    "k1 = [7,8,4,10,8] #Numero de grupos por dominio"
   ]
  },
  {
   "cell_type": "code",
   "execution_count": null,
   "metadata": {},
   "outputs": [],
   "source": [
    "for idx, file in enumerate(frequencias):\n",
    "    pai = {}  #Vetor de parentes(componentes conexas) do Union-Find\n",
    "    visitados = {}  #Vetor de visitados\n",
    "    grupos = []\n",
    "    grupos_alternativo = []\n",
    "    indices = {}\n",
    "    frequencia_palavras = {}\n",
    "    \n",
    "    G = getMatriz(caminhosG[idx])\n",
    "    T = getMatriz(caminhosT[idx])\n",
    "    \n",
    "    with open('../../datasets_processed/frequencias/' + file, 'r') as fp:\n",
    "        data_freq = json.load(fp)\n",
    "    \n",
    "    #Mapeando as as palavras para seus indices, para ajudar nas matrizes\n",
    "    for index, key in enumerate(sorted(data_freq)):\n",
    "        frequencia_palavras[key] = data_freq[key]\n",
    "        indices[key] = index\n",
    "        \n",
    "    #Obtendo os grupos gerados(alternativo)\n",
    "    with open('../../resultados/agrupamentos/' + clusteres_alternativos[idx], 'r') as fp:\n",
    "        data_clt_alt = json.load(fp)\n",
    "        \n",
    "    for key, value in data_clt_alt.items():\n",
    "        grupos_alternativos.append(value)\n",
    "        \n",
    "    #------- Gerando a MST das palavras ------------\n",
    "    palavras = sorted(indices.keys())\n",
    "    \n",
    "    nodes = set() #Nomes dos vertices (palavras)\n",
    "    arestas, nodes = get_arestas(palavras, G, T, indices) #Obtendo o grafo completo das palavras\n",
    "    \n",
    "    mst, mst_arestas = MST(arestas, nodes) #Obtendo a MST do grafo\n",
    "    \n",
    "    prod = file.split('-')[1].replace('.json', '')\n",
    "    printarGrafo(mst, '../../resultados/grupos/' + prod + '/' + mst_save[idx])\n",
    "    \n",
    "    #--------- Gerando as MST's dos grupos -----------\n",
    "    cont = 0\n",
    "    others = []\n",
    "    possiveis_atributos = []\n",
    "    for g in grupos:\n",
    "        if(len(g) > 2):\n",
    "            grau = {}\n",
    "            nodes = set() # nomes dos vertices\n",
    "            arestas, nodes = get_arestas(g, G, T, indices) #Obtendo o grafo completo do agrupamento\n",
    "            mst, mst_arestas = MST(arestas, nodes) #Obtendo a MST do agrupamento\n",
    "            \n",
    "            for key in sorted(mst.keys()):\n",
    "                count = len(mst[key])\n",
    "                if(count not in graus.keys()):\n",
    "                    graus[count] = []\n",
    "                graus[count].append(key)\n",
    "            maior = max(graus.keys())"
   ]
  },
  {
   "cell_type": "code",
   "execution_count": null,
   "metadata": {},
   "outputs": [],
   "source": []
  },
  {
   "cell_type": "code",
   "execution_count": null,
   "metadata": {},
   "outputs": [],
   "source": []
  },
  {
   "cell_type": "code",
   "execution_count": null,
   "metadata": {},
   "outputs": [],
   "source": []
  }
 ],
 "metadata": {
  "kernelspec": {
   "display_name": "Python 3",
   "language": "python",
   "name": "python3"
  },
  "language_info": {
   "codemirror_mode": {
    "name": "ipython",
    "version": 3
   },
   "file_extension": ".py",
   "mimetype": "text/x-python",
   "name": "python",
   "nbconvert_exporter": "python",
   "pygments_lexer": "ipython3",
   "version": "3.6.12"
  }
 },
 "nbformat": 4,
 "nbformat_minor": 4
}
