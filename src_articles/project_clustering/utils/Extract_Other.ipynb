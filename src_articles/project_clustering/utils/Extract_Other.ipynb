{
 "cells": [
  {
   "cell_type": "code",
   "execution_count": 1,
   "metadata": {},
   "outputs": [
    {
     "name": "stderr",
     "output_type": "stream",
     "text": [
      "[nltk_data] Downloading package stopwords to\n",
      "[nltk_data]     /home/jailsonpereira/nltk_data...\n",
      "[nltk_data]   Package stopwords is already up-to-date!\n"
     ]
    }
   ],
   "source": [
    "import nltk\n",
    "nltk.download('stopwords')\n",
    "\n",
    "from nltk.tokenize import word_tokenize, sent_tokenize\n",
    "from textblob import TextBlob\n",
    "from nltk.corpus import stopwords\n",
    "from tqdm import tqdm"
   ]
  },
  {
   "cell_type": "code",
   "execution_count": 2,
   "metadata": {},
   "outputs": [],
   "source": [
    "#Função que retorna a sentenca\n",
    "def get_Sentence(s):\n",
    "    resp = \"\"\n",
    "    for i in range(len(s)):\n",
    "        if(s[i] == '>'):\n",
    "            resp = s[i+1:]\n",
    "            break\n",
    "    resp = resp.strip()\n",
    "    return resp"
   ]
  },
  {
   "cell_type": "code",
   "execution_count": 4,
   "metadata": {},
   "outputs": [],
   "source": [
    "#Diretorios dos datasets\n",
    "caminhos = ['dvds.xml','laptops.xml','routers.xml']"
   ]
  },
  {
   "cell_type": "code",
   "execution_count": 7,
   "metadata": {},
   "outputs": [
    {
     "name": "stderr",
     "output_type": "stream",
     "text": [
      "Leitura Dados: 100%|██████████| 9/9 [00:00<00:00, 7317.06it/s]\n",
      "Leitura Dados: 100%|██████████| 9/9 [00:00<00:00, 7650.74it/s]\n",
      "Leitura Dados: 100%|██████████| 9/9 [00:00<00:00, 7141.27it/s]"
     ]
    },
    {
     "name": "stdout",
     "output_type": "stream",
     "text": [
      "The DVD has worked great so far.\n",
      "LINHA OPINION:  \t<opinion>aspect=\"DVD\" sentiment=\"great\" polarity=\"Positive\" aspectClass=\"General\" type=\"explicit\"</opinion>\n",
      "\n",
      "LINHA CLASSE PALAVRA:  ['\\taspect=', 'DVD', ' sentiment=', 'great', ' polarity=', 'Positive', ' aspectClass=', 'General', ' type=', 'explicit', '\\n']\n",
      "Not an issue sand would recommend it to anyone.\n",
      "This was indeed a great purchase.\n",
      "LINHA OPINION:  \t<opinion>aspect=\"purchase\" sentiment=\"great\" polarity=\"Positive\" aspectClass=\"General\" type=\"explicit\"</opinion>\n",
      "\n",
      "LINHA CLASSE PALAVRA:  ['\\taspect=', 'purchase', ' sentiment=', 'great', ' polarity=', 'Positive', ' aspectClass=', 'General', ' type=', 'explicit', '\\n']\n",
      "They allowed me to price match walmart's price.\n",
      "This laptop with touch screen and weight is perfect for my business in sells where I need to be mobile\n",
      "LINHA OPINION:  \t<opinion>aspect=\"laptop\" sentiment=\"perfect\" polarity=\"Positive\" aspectClass=\"General\" type=\"explicit\"</opinion>\n",
      "\n",
      "LINHA CLASSE PALAVRA:  ['\\taspect=', 'laptop', ' sentiment=', 'perfect', ' polarity=', 'Positive', ' aspectClass=', 'General', ' type=', 'explicit', '\\n']\n",
      "This is an excellent computer, I'm very pleased with this product.\n",
      "LINHA OPINION:  \t<opinion>aspect=\"computer\" sentiment=\"excellent\" polarity=\"Positive\" aspectClass=\"General\" type=\"explicit\"</opinion>\n",
      "\n",
      "LINHA CLASSE PALAVRA:  ['\\taspect=', 'computer', ' sentiment=', 'excellent', ' polarity=', 'Positive', ' aspectClass=', 'General', ' type=', 'explicit', '\\n']\n",
      "LINHA OPINION:  \t<opinion>aspect=\"product\" sentiment=\"pleased\" polarity=\"Positive\" aspectClass=\"General\" type=\"explicit\"</opinion>\n",
      "\n",
      "LINHA CLASSE PALAVRA:  ['\\taspect=', 'product', ' sentiment=', 'pleased', ' polarity=', 'Positive', ' aspectClass=', 'General', ' type=', 'explicit', '\\n']\n",
      "Can be wall mounted, easy network set-up.\n",
      "LINHA OPINION:  \t<opinion>aspect=\"network set-up\" sentiment=\"easy\" polarity=\"Positive\" aspectClass=\"Others\" type=\"explicit\"</opinion>\n",
      "\n",
      "LINHA CLASSE PALAVRA:  ['\\taspect=', 'network set-up', ' sentiment=', 'easy', ' polarity=', 'Positive', ' aspectClass=', 'Others', ' type=', 'explicit', '\\n']\n",
      "Great if you have a Xfinity wireless router, this allows more hard wired connections to be run thru the router, currently it has one wired port .\n",
      "Nice and small, fast, reliable, inexpensive and very easy to secure.\n",
      "LINHA OPINION:  \t<opinion>aspect=\"secure\" sentiment=\"easy\" polarity=\"Positive\" aspectClass=\"Security\" type=\"explicit\"</opinion>\n",
      "\n",
      "LINHA CLASSE PALAVRA:  ['\\taspect=', 'secure', ' sentiment=', 'easy', ' polarity=', 'Positive', ' aspectClass=', 'Security', ' type=', 'explicit', '\\n']\n",
      "LINHA OPINION:  \t<opinion>aspect=\"inexpensive\" sentiment=\"\" polarity=\"Positive\" aspectClass=\"Price\" type=\"implicit\"</opinion>\n",
      "\n",
      "LINHA CLASSE PALAVRA:  ['\\taspect=', 'inexpensive', ' sentiment=', '', ' polarity=', 'Positive', ' aspectClass=', 'Price', ' type=', 'implicit', '\\n']\n"
     ]
    },
    {
     "name": "stderr",
     "output_type": "stream",
     "text": [
      "\n"
     ]
    }
   ],
   "source": [
    "#Para cada dominio\n",
    "for i in range(len(caminhos)):\n",
    "    sentencas = [] #Variavel que guarda as sentencas do documento\n",
    "    documentos = [] #Variavel que guarda os documentos do dominio\n",
    "    palavras = {} #Variavel que mapeia as sentencas para as palavras\n",
    "    sentenca = \"\"\n",
    "    palavra = \"\"\n",
    "    \n",
    "    #Acessando os datasets\n",
    "    arq = open('../../datasets/' + caminhos[i],'r')\n",
    "    #Percorrendo as linhas do arquivo\n",
    "    for linha in tqdm(arq.readlines()[0:9], desc='Leitura Dados'):\n",
    "        if('<sentence' in linha):\n",
    "            s = linha.replace('</sentence>','')\n",
    "            s = s.split('idSentence=')[1]\n",
    "            s = get_Sentence(s) #Obtendo a sentenca\n",
    "            sentenca = s\n",
    "            print(sentenca)\n",
    "            #sentencas.append(sentenca)\n",
    "        if('<opinion>' in linha):\n",
    "            print('LINHA OPINION: ', linha)\n",
    "            p = linha.replace('/opinion','opinion')\n",
    "            p = p.replace('<opinion>','')\n",
    "            p = p.split('\"')\n",
    "            print('LINHA CLASSE PALAVRA: ', p)\n",
    "            palavra = p[1].lower() #Obtendo o opinion (atributo)\n",
    "            tipo = p[-2]\n",
    "            if(tipo != 'anaphora' and (palavra not in set(stopwords.words('english')))):\n",
    "                if(palavra not in palavras.keys()):\n",
    "                    palavras[palavra] = set()\n",
    "                palavras[palavra].add(sentenca)\n",
    "        if('</review>' in linha):\n",
    "            sentenca = \"\"\n",
    "            palavra = \"\"\n",
    "            documentos.append(sentencas)\n",
    "            sentencas = []\n",
    "        "
   ]
  },
  {
   "cell_type": "code",
   "execution_count": null,
   "metadata": {},
   "outputs": [],
   "source": []
  },
  {
   "cell_type": "code",
   "execution_count": null,
   "metadata": {},
   "outputs": [],
   "source": []
  },
  {
   "cell_type": "code",
   "execution_count": null,
   "metadata": {},
   "outputs": [],
   "source": []
  },
  {
   "cell_type": "code",
   "execution_count": null,
   "metadata": {},
   "outputs": [],
   "source": []
  },
  {
   "cell_type": "code",
   "execution_count": null,
   "metadata": {},
   "outputs": [],
   "source": []
  }
 ],
 "metadata": {
  "kernelspec": {
   "display_name": "Python 3",
   "language": "python",
   "name": "python3"
  },
  "language_info": {
   "codemirror_mode": {
    "name": "ipython",
    "version": 3
   },
   "file_extension": ".py",
   "mimetype": "text/x-python",
   "name": "python",
   "nbconvert_exporter": "python",
   "pygments_lexer": "ipython3",
   "version": "3.6.12"
  }
 },
 "nbformat": 4,
 "nbformat_minor": 4
}
