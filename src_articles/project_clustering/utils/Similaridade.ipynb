{
 "cells": [
  {
   "cell_type": "markdown",
   "metadata": {},
   "source": [
    "# Extração de similaridade das palavras usando Spacy"
   ]
  },
  {
   "cell_type": "code",
   "execution_count": 15,
   "metadata": {},
   "outputs": [],
   "source": [
    "import spacy\n",
    "import ast\n",
    "import json\n",
    "import gensim\n",
    "import nltk\n",
    "from difflib import SequenceMatcher"
   ]
  },
  {
   "cell_type": "code",
   "execution_count": 18,
   "metadata": {},
   "outputs": [],
   "source": [
    "#path = '../../model/GoogleNews-vectors-negative300.bin'\n",
    "nlp = spacy.load(\"en_core_web_lg\")\n",
    "model = gensim.models.KeyedVectors.load_word2vec_format(path,binary=True)"
   ]
  },
  {
   "cell_type": "code",
   "execution_count": 19,
   "metadata": {},
   "outputs": [],
   "source": [
    "# gabaritos produtos\n",
    "products = ['DadosCamera.txt', 'DadosCells.txt', 'DadosDvds.txt', 'DadosLaptops.txt', 'DadosRouters.txt']\n",
    "\n",
    "save_similar = ['similaridades-camera.json','similaridades-cells.json','similaridades-dvds.json','similaridades-laptops.json','similaridades-routers.json']"
   ]
  },
  {
   "cell_type": "code",
   "execution_count": 20,
   "metadata": {},
   "outputs": [],
   "source": [
    "def similarity_words(a, b):\n",
    "    return SequenceMatcher(None, a, b).ratio()"
   ]
  },
  {
   "cell_type": "code",
   "execution_count": 21,
   "metadata": {},
   "outputs": [
    {
     "name": "stdout",
     "output_type": "stream",
     "text": [
      "similaridades-camera.json\n"
     ]
    },
    {
     "name": "stderr",
     "output_type": "stream",
     "text": [
      "/home/jailsonpereira/anaconda3/envs/ppgi/lib/python3.6/site-packages/ipykernel_launcher.py:25: UserWarning: [W008] Evaluating Doc.similarity based on empty vectors.\n"
     ]
    },
    {
     "name": "stdout",
     "output_type": "stream",
     "text": [
      "similaridades-cells.json\n",
      "similaridades-dvds.json\n",
      "similaridades-laptops.json\n",
      "similaridades-routers.json\n"
     ]
    }
   ],
   "source": [
    "# calculando similaridade\n",
    "for index, product in enumerate(products):\n",
    "    words = set()\n",
    "    \n",
    "    arq = open('../../datasets/gabaritos/' + product, 'r')\n",
    "    for line in arq.readlines():\n",
    "        s = line.split(':')[1]\n",
    "        s = list(ast.literal_eval(s))\n",
    "        aux = set(s)\n",
    "        words = words.union(aux)\n",
    "    arq.close()\n",
    "    \n",
    "    words = list(words)\n",
    "    words.sort()\n",
    "    \n",
    "    with open('../../datasets_processed/similaridades/' + save_similar[index], 'w') as fp:\n",
    "        print(save_similar[index])\n",
    "        data  = {}\n",
    "        for i, word in enumerate(words):\n",
    "            token1 = nlp(word)\n",
    "            word_simi = {}\n",
    "            for j in range(i+1, len(words)):\n",
    "                token2 = nlp(words[j])\n",
    "                #try:\n",
    "                similarity_spc = token1.similarity(token2)\n",
    "                similarity_nltk = similarity_words(word, words[j])\n",
    "                similarity = (similarity_spc + similarity_nltk) / 2\n",
    "                    \n",
    "                word_simi[words[j]] = similarity \n",
    "            \n",
    "            data[word] = word_simi\n",
    "            \n",
    "        json.dump(data, fp)"
   ]
  }
 ],
 "metadata": {
  "kernelspec": {
   "display_name": "Python 3",
   "language": "python",
   "name": "python3"
  },
  "language_info": {
   "codemirror_mode": {
    "name": "ipython",
    "version": 3
   },
   "file_extension": ".py",
   "mimetype": "text/x-python",
   "name": "python",
   "nbconvert_exporter": "python",
   "pygments_lexer": "ipython3",
   "version": "3.6.12"
  }
 },
 "nbformat": 4,
 "nbformat_minor": 4
}
