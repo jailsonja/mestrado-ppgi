{
 "cells": [
  {
   "cell_type": "code",
   "execution_count": 1,
   "metadata": {},
   "outputs": [],
   "source": [
    "import pandas as pd\n",
    "import json"
   ]
  },
  {
   "cell_type": "code",
   "execution_count": 19,
   "metadata": {},
   "outputs": [],
   "source": [
    "#products = ['camera', 'cells', 'dvds', 'laptops', 'routers']\n",
    "def read_json():\n",
    "    lista = []\n",
    "    products = ['camera', 'cells', 'dvds', 'laptops', 'routers']\n",
    "    for product in products:\n",
    "        with open('mapeamentos-{}.json'.format(product)) as f:\n",
    "            data = json.load(f)\n",
    "        \n",
    "        data_csv = {}\n",
    "        classe = []\n",
    "        reviews = []\n",
    "        for key, value in data.items():\n",
    "            for rw in value:\n",
    "                classe.append(product)\n",
    "                reviews.append(rw)\n",
    "        data_csv['classe'] = classe\n",
    "        data_csv['reviews'] = reviews\n",
    "    \n",
    "        df = pd.DataFrame.from_dict(data_csv)\n",
    "        lista.append(df)\n",
    "    return lista\n",
    "\n",
    "def df_save_csv(lista_df):\n",
    "    products = ['camera', 'cells', 'dvds', 'laptops', 'routers']\n",
    "    \n",
    "    for idx, value in enumerate(lista_df):\n",
    "        value.to_csv ('{}.csv'.format(products[idx]), index = False, header=True)"
   ]
  },
  {
   "cell_type": "code",
   "execution_count": 20,
   "metadata": {},
   "outputs": [],
   "source": [
    "ls_df = read_json()"
   ]
  },
  {
   "cell_type": "code",
   "execution_count": 21,
   "metadata": {},
   "outputs": [],
   "source": [
    "df_save_csv(ls_df)"
   ]
  }
 ],
 "metadata": {
  "kernelspec": {
   "display_name": "Python 3",
   "language": "python",
   "name": "python3"
  },
  "language_info": {
   "codemirror_mode": {
    "name": "ipython",
    "version": 3
   },
   "file_extension": ".py",
   "mimetype": "text/x-python",
   "name": "python",
   "nbconvert_exporter": "python",
   "pygments_lexer": "ipython3",
   "version": "3.6.12"
  }
 },
 "nbformat": 4,
 "nbformat_minor": 4
}
