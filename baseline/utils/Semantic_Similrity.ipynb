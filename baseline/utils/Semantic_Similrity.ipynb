{
 "cells": [
  {
   "cell_type": "markdown",
   "metadata": {},
   "source": [
    "## Semantic Similarity Service"
   ]
  },
  {
   "cell_type": "code",
   "execution_count": 1,
   "metadata": {},
   "outputs": [],
   "source": [
    "from sematch.semantic.similarity import WordNetSimilarity, YagoTypeSimilarity\n",
    "from gensim.models import Word2Vec, KeyedVectors\n",
    "from nltk.corpus import brown, treebank\n",
    "from IPython.display import display\n",
    "import pandas as pd\n",
    "import matplotlib.pyplot as plt\n",
    "\n",
    "\n",
    "%matplotlib inline\n",
    "\n",
    "yagosim = YagoTypeSimilarity()\n",
    "wns = WordNetSimilarity()"
   ]
  },
  {
   "cell_type": "code",
   "execution_count": 3,
   "metadata": {},
   "outputs": [],
   "source": [
    "# word2vec_model = KeyedVectors.load_word2vec_format('./GoogleNews-vectors-negative300.bin', binary=True)\n",
    "# glove_model = KeyedVectors.load_word2vec_format('./glove.840B.300d.w2vformat.txt', binary=False)"
   ]
  },
  {
   "cell_type": "code",
   "execution_count": 2,
   "metadata": {},
   "outputs": [
    {
     "data": {
      "text/html": [
       "<div>\n",
       "<style scoped>\n",
       "    .dataframe tbody tr th:only-of-type {\n",
       "        vertical-align: middle;\n",
       "    }\n",
       "\n",
       "    .dataframe tbody tr th {\n",
       "        vertical-align: top;\n",
       "    }\n",
       "\n",
       "    .dataframe thead th {\n",
       "        text-align: right;\n",
       "    }\n",
       "</style>\n",
       "<table border=\"1\" class=\"dataframe\">\n",
       "  <thead>\n",
       "    <tr style=\"text-align: right;\">\n",
       "      <th></th>\n",
       "      <th>artist</th>\n",
       "      <th>musician</th>\n",
       "      <th>scientist</th>\n",
       "      <th>physicist</th>\n",
       "      <th>actor</th>\n",
       "      <th>movie</th>\n",
       "    </tr>\n",
       "  </thead>\n",
       "  <tbody>\n",
       "    <tr>\n",
       "      <th>artist</th>\n",
       "      <td>1.000000</td>\n",
       "      <td>0.809924</td>\n",
       "      <td>0.359417</td>\n",
       "      <td>0.296175</td>\n",
       "      <td>0.359417</td>\n",
       "      <td>0.135239</td>\n",
       "    </tr>\n",
       "    <tr>\n",
       "      <th>musician</th>\n",
       "      <td>0.809924</td>\n",
       "      <td>1.000000</td>\n",
       "      <td>0.296175</td>\n",
       "      <td>0.251859</td>\n",
       "      <td>0.641697</td>\n",
       "      <td>0.123384</td>\n",
       "    </tr>\n",
       "    <tr>\n",
       "      <th>scientist</th>\n",
       "      <td>0.359417</td>\n",
       "      <td>0.296175</td>\n",
       "      <td>1.000000</td>\n",
       "      <td>0.790743</td>\n",
       "      <td>0.456999</td>\n",
       "      <td>0.149615</td>\n",
       "    </tr>\n",
       "    <tr>\n",
       "      <th>physicist</th>\n",
       "      <td>0.296175</td>\n",
       "      <td>0.251859</td>\n",
       "      <td>0.790743</td>\n",
       "      <td>1.000000</td>\n",
       "      <td>0.359417</td>\n",
       "      <td>0.135239</td>\n",
       "    </tr>\n",
       "    <tr>\n",
       "      <th>actor</th>\n",
       "      <td>0.359417</td>\n",
       "      <td>0.641697</td>\n",
       "      <td>0.456999</td>\n",
       "      <td>0.359417</td>\n",
       "      <td>1.000000</td>\n",
       "      <td>0.149615</td>\n",
       "    </tr>\n",
       "    <tr>\n",
       "      <th>movie</th>\n",
       "      <td>0.135239</td>\n",
       "      <td>0.123384</td>\n",
       "      <td>0.149615</td>\n",
       "      <td>0.135239</td>\n",
       "      <td>0.149615</td>\n",
       "      <td>1.000000</td>\n",
       "    </tr>\n",
       "  </tbody>\n",
       "</table>\n",
       "</div>"
      ],
      "text/plain": [
       "             artist  musician  scientist  physicist     actor     movie\n",
       "artist     1.000000  0.809924   0.359417   0.296175  0.359417  0.135239\n",
       "musician   0.809924  1.000000   0.296175   0.251859  0.641697  0.123384\n",
       "scientist  0.359417  0.296175   1.000000   0.790743  0.456999  0.149615\n",
       "physicist  0.296175  0.251859   0.790743   1.000000  0.359417  0.135239\n",
       "actor      0.359417  0.641697   0.456999   0.359417  1.000000  0.149615\n",
       "movie      0.135239  0.123384   0.149615   0.135239  0.149615  1.000000"
      ]
     },
     "metadata": {},
     "output_type": "display_data"
    }
   ],
   "source": [
    "words = ['artist', 'musician', 'scientist', 'physicist', 'actor', 'movie']\n",
    "sim_matrix = [[wns.word_similarity(w1, w2, 'wpath') for w1 in words] for w2 in words]\n",
    "df = pd.DataFrame(sim_matrix, index=words,columns=words)\n",
    "display(df)"
   ]
  },
  {
   "cell_type": "code",
   "execution_count": 11,
   "metadata": {},
   "outputs": [
    {
     "data": {
      "text/html": [
       "<div>\n",
       "<style scoped>\n",
       "    .dataframe tbody tr th:only-of-type {\n",
       "        vertical-align: middle;\n",
       "    }\n",
       "\n",
       "    .dataframe tbody tr th {\n",
       "        vertical-align: top;\n",
       "    }\n",
       "\n",
       "    .dataframe thead th {\n",
       "        text-align: right;\n",
       "    }\n",
       "</style>\n",
       "<table border=\"1\" class=\"dataframe\">\n",
       "  <thead>\n",
       "    <tr style=\"text-align: right;\">\n",
       "      <th></th>\n",
       "      <th>video</th>\n",
       "      <th>zoom</th>\n",
       "      <th>autofocus</th>\n",
       "      <th>quality</th>\n",
       "    </tr>\n",
       "  </thead>\n",
       "  <tbody>\n",
       "    <tr>\n",
       "      <th>video</th>\n",
       "      <td>1.000000</td>\n",
       "      <td>0.102519</td>\n",
       "      <td>0.331857</td>\n",
       "      <td>0.185973</td>\n",
       "    </tr>\n",
       "    <tr>\n",
       "      <th>zoom</th>\n",
       "      <td>0.102519</td>\n",
       "      <td>1.000000</td>\n",
       "      <td>0.058824</td>\n",
       "      <td>0.112627</td>\n",
       "    </tr>\n",
       "    <tr>\n",
       "      <th>autofocus</th>\n",
       "      <td>0.331857</td>\n",
       "      <td>0.058824</td>\n",
       "      <td>1.000000</td>\n",
       "      <td>0.083333</td>\n",
       "    </tr>\n",
       "    <tr>\n",
       "      <th>quality</th>\n",
       "      <td>0.185973</td>\n",
       "      <td>0.112627</td>\n",
       "      <td>0.083333</td>\n",
       "      <td>1.000000</td>\n",
       "    </tr>\n",
       "  </tbody>\n",
       "</table>\n",
       "</div>"
      ],
      "text/plain": [
       "              video      zoom  autofocus   quality\n",
       "video      1.000000  0.102519   0.331857  0.185973\n",
       "zoom       0.102519  1.000000   0.058824  0.112627\n",
       "autofocus  0.331857  0.058824   1.000000  0.083333\n",
       "quality    0.185973  0.112627   0.083333  1.000000"
      ]
     },
     "metadata": {},
     "output_type": "display_data"
    }
   ],
   "source": [
    "words = ['video', 'zoom', 'autofocus', 'quality']\n",
    "sim_matrix = [[wns.word_similarity(w1, w2, 'wpath') for w1 in words] for w2 in words]\n",
    "df = pd.DataFrame(sim_matrix, index=words,columns=words)\n",
    "display(df)"
   ]
  },
  {
   "cell_type": "code",
   "execution_count": 6,
   "metadata": {},
   "outputs": [
    {
     "data": {
      "text/html": [
       "<div>\n",
       "<style scoped>\n",
       "    .dataframe tbody tr th:only-of-type {\n",
       "        vertical-align: middle;\n",
       "    }\n",
       "\n",
       "    .dataframe tbody tr th {\n",
       "        vertical-align: top;\n",
       "    }\n",
       "\n",
       "    .dataframe thead th {\n",
       "        text-align: right;\n",
       "    }\n",
       "</style>\n",
       "<table border=\"1\" class=\"dataframe\">\n",
       "  <thead>\n",
       "    <tr style=\"text-align: right;\">\n",
       "      <th></th>\n",
       "      <th>video</th>\n",
       "      <th>zoom</th>\n",
       "      <th>autofocus</th>\n",
       "      <th>quality</th>\n",
       "    </tr>\n",
       "  </thead>\n",
       "  <tbody>\n",
       "    <tr>\n",
       "      <th>video</th>\n",
       "      <td>0.999959</td>\n",
       "      <td>0.072682</td>\n",
       "      <td>0.367331</td>\n",
       "      <td>0.197569</td>\n",
       "    </tr>\n",
       "    <tr>\n",
       "      <th>zoom</th>\n",
       "      <td>0.072682</td>\n",
       "      <td>0.999959</td>\n",
       "      <td>0.000000</td>\n",
       "      <td>0.088774</td>\n",
       "    </tr>\n",
       "    <tr>\n",
       "      <th>autofocus</th>\n",
       "      <td>0.367331</td>\n",
       "      <td>0.000000</td>\n",
       "      <td>0.999865</td>\n",
       "      <td>0.000000</td>\n",
       "    </tr>\n",
       "    <tr>\n",
       "      <th>quality</th>\n",
       "      <td>0.197569</td>\n",
       "      <td>0.088774</td>\n",
       "      <td>0.000000</td>\n",
       "      <td>0.999865</td>\n",
       "    </tr>\n",
       "  </tbody>\n",
       "</table>\n",
       "</div>"
      ],
      "text/plain": [
       "              video      zoom  autofocus   quality\n",
       "video      0.999959  0.072682   0.367331  0.197569\n",
       "zoom       0.072682  0.999959   0.000000  0.088774\n",
       "autofocus  0.367331  0.000000   0.999865  0.000000\n",
       "quality    0.197569  0.088774   0.000000  0.999865"
      ]
     },
     "metadata": {},
     "output_type": "display_data"
    }
   ],
   "source": [
    "words = ['video', 'zoom', 'autofocus', 'quality']\n",
    "sim_matrix = [[wns.word_similarity(w1, w2, 'li') for w1 in words] for w2 in words]\n",
    "df = pd.DataFrame(sim_matrix, index=words,columns=words)\n",
    "display(df)"
   ]
  },
  {
   "cell_type": "code",
   "execution_count": 12,
   "metadata": {},
   "outputs": [
    {
     "data": {
      "text/html": [
       "<div>\n",
       "<style scoped>\n",
       "    .dataframe tbody tr th:only-of-type {\n",
       "        vertical-align: middle;\n",
       "    }\n",
       "\n",
       "    .dataframe tbody tr th {\n",
       "        vertical-align: top;\n",
       "    }\n",
       "\n",
       "    .dataframe thead th {\n",
       "        text-align: right;\n",
       "    }\n",
       "</style>\n",
       "<table border=\"1\" class=\"dataframe\">\n",
       "  <thead>\n",
       "    <tr style=\"text-align: right;\">\n",
       "      <th></th>\n",
       "      <th>video</th>\n",
       "      <th>zoom</th>\n",
       "      <th>autofocus</th>\n",
       "      <th>quality</th>\n",
       "    </tr>\n",
       "  </thead>\n",
       "  <tbody>\n",
       "    <tr>\n",
       "      <th>video</th>\n",
       "      <td>1.000000</td>\n",
       "      <td>0.285714</td>\n",
       "      <td>0.736842</td>\n",
       "      <td>0.444444</td>\n",
       "    </tr>\n",
       "    <tr>\n",
       "      <th>zoom</th>\n",
       "      <td>0.285714</td>\n",
       "      <td>1.000000</td>\n",
       "      <td>0.111111</td>\n",
       "      <td>0.333333</td>\n",
       "    </tr>\n",
       "    <tr>\n",
       "      <th>autofocus</th>\n",
       "      <td>0.736842</td>\n",
       "      <td>0.111111</td>\n",
       "      <td>1.000000</td>\n",
       "      <td>0.153846</td>\n",
       "    </tr>\n",
       "    <tr>\n",
       "      <th>quality</th>\n",
       "      <td>0.444444</td>\n",
       "      <td>0.333333</td>\n",
       "      <td>0.153846</td>\n",
       "      <td>1.000000</td>\n",
       "    </tr>\n",
       "  </tbody>\n",
       "</table>\n",
       "</div>"
      ],
      "text/plain": [
       "              video      zoom  autofocus   quality\n",
       "video      1.000000  0.285714   0.736842  0.444444\n",
       "zoom       0.285714  1.000000   0.111111  0.333333\n",
       "autofocus  0.736842  0.111111   1.000000  0.153846\n",
       "quality    0.444444  0.333333   0.153846  1.000000"
      ]
     },
     "metadata": {},
     "output_type": "display_data"
    }
   ],
   "source": [
    "words = ['video', 'zoom', 'autofocus', 'quality'] # esse é o melhor\n",
    "sim_matrix = [[wns.word_similarity(w1, w2, 'wup') for w1 in words] for w2 in words]\n",
    "df = pd.DataFrame(sim_matrix, index=words,columns=words)\n",
    "display(df)"
   ]
  },
  {
   "cell_type": "code",
   "execution_count": 10,
   "metadata": {},
   "outputs": [
    {
     "data": {
      "text/html": [
       "<div>\n",
       "<style scoped>\n",
       "    .dataframe tbody tr th:only-of-type {\n",
       "        vertical-align: middle;\n",
       "    }\n",
       "\n",
       "    .dataframe tbody tr th {\n",
       "        vertical-align: top;\n",
       "    }\n",
       "\n",
       "    .dataframe thead th {\n",
       "        text-align: right;\n",
       "    }\n",
       "</style>\n",
       "<table border=\"1\" class=\"dataframe\">\n",
       "  <thead>\n",
       "    <tr style=\"text-align: right;\">\n",
       "      <th></th>\n",
       "      <th>video</th>\n",
       "      <th>zoom</th>\n",
       "      <th>autofocus</th>\n",
       "      <th>quality</th>\n",
       "    </tr>\n",
       "  </thead>\n",
       "  <tbody>\n",
       "    <tr>\n",
       "      <th>video</th>\n",
       "      <td>8.151701</td>\n",
       "      <td>2.379408</td>\n",
       "      <td>6.26175</td>\n",
       "      <td>2.379408</td>\n",
       "    </tr>\n",
       "    <tr>\n",
       "      <th>zoom</th>\n",
       "      <td>2.379408</td>\n",
       "      <td>3.729211</td>\n",
       "      <td>0.00000</td>\n",
       "      <td>3.534170</td>\n",
       "    </tr>\n",
       "    <tr>\n",
       "      <th>autofocus</th>\n",
       "      <td>6.261750</td>\n",
       "      <td>0.000000</td>\n",
       "      <td>0.00000</td>\n",
       "      <td>0.000000</td>\n",
       "    </tr>\n",
       "    <tr>\n",
       "      <th>quality</th>\n",
       "      <td>2.379408</td>\n",
       "      <td>3.534170</td>\n",
       "      <td>0.00000</td>\n",
       "      <td>8.938707</td>\n",
       "    </tr>\n",
       "  </tbody>\n",
       "</table>\n",
       "</div>"
      ],
      "text/plain": [
       "              video      zoom  autofocus   quality\n",
       "video      8.151701  2.379408    6.26175  2.379408\n",
       "zoom       2.379408  3.729211    0.00000  3.534170\n",
       "autofocus  6.261750  0.000000    0.00000  0.000000\n",
       "quality    2.379408  3.534170    0.00000  8.938707"
      ]
     },
     "metadata": {},
     "output_type": "display_data"
    }
   ],
   "source": [
    "words = ['video', 'zoom', 'autofocus', 'quality']\n",
    "sim_matrix = [[yagosim.word_similarity(w1, w2, 'res_graph') for w1 in words] for w2 in words]\n",
    "df = pd.DataFrame(sim_matrix, index=words,columns=words)\n",
    "display(df)"
   ]
  },
  {
   "cell_type": "code",
   "execution_count": 4,
   "metadata": {},
   "outputs": [
    {
     "data": {
      "text/plain": [
       "0"
      ]
     },
     "execution_count": 4,
     "metadata": {},
     "output_type": "execute_result"
    }
   ],
   "source": [
    "wns.word_similarity('app', 'apps', 'li')"
   ]
  }
 ],
 "metadata": {
  "kernelspec": {
   "display_name": "Python 3",
   "language": "python",
   "name": "python3"
  },
  "language_info": {
   "codemirror_mode": {
    "name": "ipython",
    "version": 3
   },
   "file_extension": ".py",
   "mimetype": "text/x-python",
   "name": "python",
   "nbconvert_exporter": "python",
   "pygments_lexer": "ipython3",
   "version": "3.6.12"
  }
 },
 "nbformat": 4,
 "nbformat_minor": 4
}
