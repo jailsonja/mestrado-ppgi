{
 "cells": [
  {
   "cell_type": "markdown",
   "metadata": {},
   "source": [
    "## Calculo Métricas"
   ]
  },
  {
   "cell_type": "markdown",
   "metadata": {},
   "source": [
    "## calculo cosseno\n",
    "\n",
    "Cos(x, y) = x . y/ ||x|| * ||y||\n",
    "\n",
    "Exemplo: \n",
    "\n",
    "x = {3,2,0,5}\n",
    "\n",
    "y = {1,0,0,0}\n",
    "\n",
    "x . y = 3 * 1 + 2 * 0 + 0 * 0 + 5 * 0 = 3\n",
    "\n",
    "||x|| = raiz((3)^2 + (2)^2 + (0)^2 + (5)^2) = 6.16\n",
    "\n",
    "||y|| = raiz((1)^2 + (0)^2 + (0)^2 + (0)^2) = 1\n",
    "\n",
    "cos(x, y) = 3 / (6.16 * 1) = 0.49"
   ]
  },
  {
   "cell_type": "code",
   "execution_count": 5,
   "metadata": {},
   "outputs": [],
   "source": [
    "import numpy as np\n",
    "from numpy.linalg import norm\n",
    "from sklearn.metrics.pairwise import cosine_similarity"
   ]
  },
  {
   "cell_type": "code",
   "execution_count": 8,
   "metadata": {},
   "outputs": [],
   "source": [
    "def cosine_simi(matrix):\n",
    "    simi = cosine_similarity(matrix)\n",
    "    return simi\n",
    "\n",
    "# retorna a similaridade do cosseno entre dois vetores\n",
    "def cosine(x, y):\n",
    "    result = np.dot(x, y) / (norm(x) * norm(y))\n",
    "    return result\n",
    "\n",
    "def sim_g(x, y):\n",
    "    return cosine(x, y)\n",
    "\n",
    "def sim_t(x, y):\n",
    "    return cosine(x, y)\n",
    "\n",
    "def sim_gt(x, y):\n",
    "    result = max(cosine(x, y), cosine(y, x))\n",
    "    return result\n",
    "\n",
    "def sim(x, y):\n",
    "    wg = 0.2\n",
    "    wt = 0.2\n",
    "    wgt = 0.6\n",
    "    value = (wg * simg(x, y)) + (wt * simt(x, y)) + (wgt * simgt(x, y))\n",
    "    return sim"
   ]
  },
  {
   "cell_type": "code",
   "execution_count": 3,
   "metadata": {},
   "outputs": [
    {
     "name": "stdout",
     "output_type": "stream",
     "text": [
      "Similaridade - Cosseno:  0.48666426339228763\n",
      "Similaridade entre G e T:  0.48666426339228763\n"
     ]
    }
   ],
   "source": [
    "x = [3, 2, 0, 5]\n",
    "y = [1, 0, 0, 0]\n",
    "\n",
    "x = np.array(x)\n",
    "y = np.array(y)\n",
    "\n",
    "print(\"Similaridade - Cosseno: \", cosine(x, y))\n",
    "print(\"Similaridade entre G e T: \", sim_gt(x, y))"
   ]
  },
  {
   "cell_type": "markdown",
   "metadata": {},
   "source": [
    "## Normalized Pointwise Mutual Information (NPMI)\n",
    "\n",
    "NPMI(xi, xj) = log(N * frequencia(xi, xj) / frequencia(xi) * frequencia(xj)) / - log(frequencia(xi, xj)/N)"
   ]
  },
  {
   "cell_type": "code",
   "execution_count": 37,
   "metadata": {},
   "outputs": [],
   "source": [
    "# calculo PMI\n",
    "def pmi(freq_x_y, freq_x, freq_y):\n",
    "    result = np.log(freq_x_y/ freq_x * freq_y)\n",
    "    return result\n",
    "\n",
    "# calculo do NPMI\n",
    "def npmi(freq_x_i, freq_x_j, freq_xi_xj, n):\n",
    "    return np.log(n*(freq_xi_xj)/freq_x_i * freq_x_j) / -np.log(freq_xi_xj/n)\n",
    "\n",
    "# normalização da matriz de npmi para o intervalo de [0,1]\n",
    "def normalized_t(matrixt):\n",
    "    return (matrixt - np.min(matrixt))/np.ptp(matrixt)\n"
   ]
  },
  {
   "cell_type": "code",
   "execution_count": 7,
   "metadata": {},
   "outputs": [
    {
     "name": "stdout",
     "output_type": "stream",
     "text": [
      "(3, 3)\n",
      "[[1.         0.99057776 0.89734568]\n",
      " [0.99057776 1.         0.93935245]\n",
      " [0.89734568 0.93935245 1.        ]]\n"
     ]
    }
   ],
   "source": [
    "a = np.random.rand(3,3)\n",
    "print(a.shape)\n",
    "\n",
    "#matT = normalized_t(a)\n",
    "maatC = cosine_similarity(a)\n",
    "print(maatC)"
   ]
  },
  {
   "cell_type": "code",
   "execution_count": 11,
   "metadata": {},
   "outputs": [
    {
     "data": {
      "text/plain": [
       "1.0"
      ]
     },
     "execution_count": 11,
     "metadata": {},
     "output_type": "execute_result"
    }
   ],
   "source": [
    "maatC[0, 0]"
   ]
  }
 ],
 "metadata": {
  "kernelspec": {
   "display_name": "Python 3",
   "language": "python",
   "name": "python3"
  },
  "language_info": {
   "codemirror_mode": {
    "name": "ipython",
    "version": 3
   },
   "file_extension": ".py",
   "mimetype": "text/x-python",
   "name": "python",
   "nbconvert_exporter": "python",
   "pygments_lexer": "ipython3",
   "version": "3.6.12"
  }
 },
 "nbformat": 4,
 "nbformat_minor": 4
}
