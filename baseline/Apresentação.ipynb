{
 "cells": [
  {
   "cell_type": "markdown",
   "metadata": {},
   "source": [
    "# Apresentação Grupos de palavras gerados pelo Algoritmo"
   ]
  },
  {
   "cell_type": "markdown",
   "metadata": {},
   "source": [
    "- Produtos considerados: GPS e TV\n",
    "\n",
    "- No final são apresentados 50 clusters"
   ]
  },
  {
   "cell_type": "code",
   "execution_count": 22,
   "metadata": {},
   "outputs": [],
   "source": [
    "import pandas as pd\n",
    "from preprocess.preprocess import *\n",
    "from utils.utils import *\n",
    "import ast\n",
    "\n",
    "import nltk\n",
    "from nltk.corpus import stopwords"
   ]
  },
  {
   "cell_type": "markdown",
   "metadata": {},
   "source": [
    "## Cell-phones"
   ]
  },
  {
   "cell_type": "markdown",
   "metadata": {},
   "source": [
    "#### Lendo Resultados "
   ]
  },
  {
   "cell_type": "code",
   "execution_count": 23,
   "metadata": {},
   "outputs": [],
   "source": [
    "clusters_results = open('./resultados/TV/TV-K.txt', 'r')\n",
    "\n",
    "list_clusters = []\n",
    "\n",
    "for cluster in clusters_results:\n",
    "    list_clusters.append(ast.literal_eval(cluster))"
   ]
  },
  {
   "cell_type": "markdown",
   "metadata": {},
   "source": [
    "#### Lendo Fetures"
   ]
  },
  {
   "cell_type": "code",
   "execution_count": 25,
   "metadata": {},
   "outputs": [
    {
     "name": "stderr",
     "output_type": "stream",
     "text": [
      "Extraindo Candidatos: 8000it [00:00, 21917.22it/s]\n"
     ]
    }
   ],
   "source": [
    "documents_reviews = read_json('./database-process/TV/TV_documents_reviews.json')\n",
    "explicit, implicit = extract_terms_tag('TV')"
   ]
  },
  {
   "cell_type": "markdown",
   "metadata": {},
   "source": [
    "#### Extraindo resultados explicitos"
   ]
  },
  {
   "cell_type": "code",
   "execution_count": 26,
   "metadata": {},
   "outputs": [],
   "source": [
    "explicit_feature_result = []\n",
    "\n",
    "for features in list_clusters:\n",
    "    for feature in features:\n",
    "        if feature in explicit:\n",
    "            explicit_feature_result.append(feature)"
   ]
  },
  {
   "cell_type": "code",
   "execution_count": 27,
   "metadata": {},
   "outputs": [
    {
     "data": {
      "text/plain": [
       "1237"
      ]
     },
     "execution_count": 27,
     "metadata": {},
     "output_type": "execute_result"
    }
   ],
   "source": [
    "len(explicit_feature_result)"
   ]
  },
  {
   "cell_type": "markdown",
   "metadata": {},
   "source": [
    "#### Lendo Explicit Gold"
   ]
  },
  {
   "cell_type": "code",
   "execution_count": 28,
   "metadata": {},
   "outputs": [],
   "source": [
    "explicit_gold = open('./database/gold_standard/explicit_features_TV.txt', 'r')\n",
    "gold_explicit = []\n",
    "\n",
    "for feature in explicit_gold:\n",
    "    item = feature.split('\\n')[0]\n",
    "    item = item.replace('_', ' ')\n",
    "    gold_explicit.append(item)"
   ]
  },
  {
   "cell_type": "code",
   "execution_count": 29,
   "metadata": {},
   "outputs": [
    {
     "data": {
      "text/plain": [
       "485"
      ]
     },
     "execution_count": 29,
     "metadata": {},
     "output_type": "execute_result"
    }
   ],
   "source": [
    "len(gold_explicit)"
   ]
  },
  {
   "cell_type": "markdown",
   "metadata": {},
   "source": [
    "#### Transformando Listas em Conjuntos"
   ]
  },
  {
   "cell_type": "code",
   "execution_count": 30,
   "metadata": {},
   "outputs": [],
   "source": [
    "# Gold SET\n",
    "gold_explicit = set(gold_explicit)"
   ]
  },
  {
   "cell_type": "code",
   "execution_count": 31,
   "metadata": {},
   "outputs": [],
   "source": [
    "# Resultado SET\n",
    "explicit_feature_result = set(explicit_feature_result)"
   ]
  },
  {
   "cell_type": "code",
   "execution_count": 32,
   "metadata": {},
   "outputs": [
    {
     "data": {
      "text/plain": [
       "(485, 1237)"
      ]
     },
     "execution_count": 32,
     "metadata": {},
     "output_type": "execute_result"
    }
   ],
   "source": [
    "len(gold_explicit), len(explicit_feature_result)"
   ]
  },
  {
   "cell_type": "markdown",
   "metadata": {},
   "source": [
    "### Calculando Métrica para as features explicits"
   ]
  },
  {
   "cell_type": "markdown",
   "metadata": {},
   "source": [
    "precision = Nagree / Nresult\n",
    "\n",
    "recall = Nagree / Ngold\n",
    "\n",
    "F-score = 2×precision×recall / precision+recall"
   ]
  },
  {
   "cell_type": "code",
   "execution_count": 33,
   "metadata": {},
   "outputs": [],
   "source": [
    "n_agree_explicit = gold_explicit.intersection(explicit_feature_result)"
   ]
  },
  {
   "cell_type": "code",
   "execution_count": 13,
   "metadata": {},
   "outputs": [],
   "source": [
    "precision = len(n_agree_explicit) / len(explicit_feature_result)"
   ]
  },
  {
   "cell_type": "code",
   "execution_count": 14,
   "metadata": {},
   "outputs": [
    {
     "name": "stdout",
     "output_type": "stream",
     "text": [
      "0.1975609756097561\n"
     ]
    }
   ],
   "source": [
    "print(precision)"
   ]
  },
  {
   "cell_type": "code",
   "execution_count": 15,
   "metadata": {},
   "outputs": [],
   "source": [
    "recall = len(n_agree_explicit)/len(gold_explicit)"
   ]
  },
  {
   "cell_type": "code",
   "execution_count": 16,
   "metadata": {},
   "outputs": [
    {
     "name": "stdout",
     "output_type": "stream",
     "text": [
      "0.38663484486873506\n"
     ]
    }
   ],
   "source": [
    "print(recall)"
   ]
  },
  {
   "cell_type": "code",
   "execution_count": 17,
   "metadata": {},
   "outputs": [],
   "source": [
    "f1 = (2 * precision * recall )/ precision + recall"
   ]
  },
  {
   "cell_type": "code",
   "execution_count": 18,
   "metadata": {},
   "outputs": [
    {
     "name": "stdout",
     "output_type": "stream",
     "text": [
      "1.1599045346062051\n"
     ]
    }
   ],
   "source": [
    "print(f1)"
   ]
  },
  {
   "cell_type": "markdown",
   "metadata": {},
   "source": [
    "# Aspect Cluster\n",
    "\n",
    "# 2 *(a + b)/ n * (n-1)\n",
    "\n",
    "\n"
   ]
  },
  {
   "cell_type": "code",
   "execution_count": 14,
   "metadata": {},
   "outputs": [],
   "source": [
    "file = open('./database/gold_standard/aspectCluster_Cell-phones.txt', 'r')\n",
    "cluster_gold = {}\n",
    "for line in file:\n",
    "    aux = line.split('[')\n",
    "    name_cluster = aux[0]\n",
    "    features = aux[1].split(']')[0].split(',')\n",
    "    cluster_gold[name_cluster] = set()\n",
    "    for feature in features:\n",
    "        ft = feature.split('_')\n",
    "        for f in ft:\n",
    "            cluster_gold[name_cluster].add(f)"
   ]
  },
  {
   "cell_type": "code",
   "execution_count": 15,
   "metadata": {},
   "outputs": [],
   "source": [
    "cluster_result = {}\n",
    "\n",
    "for idx, cl in enumerate(clusters):\n",
    "    cluster_result[idx] = set()\n",
    "    clus=ast.literal_eval(cl)\n",
    "    \n",
    "    for c in clus:\n",
    "        cluster_result[idx].add(c)"
   ]
  },
  {
   "cell_type": "code",
   "execution_count": 16,
   "metadata": {},
   "outputs": [],
   "source": [
    "len(cluster_result.keys())\n",
    "a = 0\n",
    "b = 0\n",
    "n1 = 0\n",
    "n2 = 0\n",
    "rsult = 0\n",
    "for key in cluster_gold.keys():\n",
    "    for k in cluster_result.keys():\n",
    "        inter = cluster_result[k].intersection(cluster_gold[key])\n",
    "        union = cluster_result[k].union(cluster_gold[key])\n",
    "        a = a + len(inter)\n",
    "        b = b + (len(union) - len(inter))\n",
    "        n1 = n1 + len(union)\n",
    "        \n",
    "        r = 2*(a+b)/len(union) * (len(union) - 1)\n",
    "        rsult = rsult + r"
   ]
  }
 ],
 "metadata": {
  "kernelspec": {
   "display_name": "Python 3",
   "language": "python",
   "name": "python3"
  },
  "language_info": {
   "codemirror_mode": {
    "name": "ipython",
    "version": 3
   },
   "file_extension": ".py",
   "mimetype": "text/x-python",
   "name": "python",
   "nbconvert_exporter": "python",
   "pygments_lexer": "ipython3",
   "version": "3.6.12"
  }
 },
 "nbformat": 4,
 "nbformat_minor": 4
}
