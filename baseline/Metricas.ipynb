{
 "cells": [
  {
   "cell_type": "code",
   "execution_count": 70,
   "metadata": {},
   "outputs": [
    {
     "data": {
      "text/plain": [
       "'cluster_edge_cells.gv.pdf'"
      ]
     },
     "execution_count": 70,
     "metadata": {},
     "output_type": "execute_result"
    }
   ],
   "source": [
    "from graphviz import Digraph\n",
    "\n",
    "g = Digraph('G', filename='cluster_edge_cells.gv')\n",
    "g.attr(compound='true')\n",
    "\n",
    "cont = 0\n",
    "clusters = [['features', 'learn', 'cover', 'feature'], ['use', 'easy'], ['def', 'update', 'ate', 'high'], ['app', 'apps'], ['thin', 'touch', 'nothing'], ['smart', 'art'], ['long', 'power', 'light', 'top', 'weight'], ['picture', 'pictures', 'ui', 'quick'], ['problems', 'sound', 'quality', 'music', 'problem'], ['calls', 'video', 'call', 'videos'], ['fast', 'drop', 'speed', 'processor'], ['screen'], ['little', 'worth', 'function', 'fun', 'move'], ['work', 'works'], ['os'], ['off', 'hand', 'hands'], ['able'], ['days', 'slow', 'low'], ['lag', 'real'], ['right', 'size'], ['keyboard', 'time'], ['charge', 'user', 'mode', 'friendly'], ['pen', 'ring'], ['battery'], ['look', 'looking'], ['design', 'back'], ['small', 'display'], ['much'], ['camera'], ['performance', 'software'], ['large', 'pocket'], ['android', 'ton'], ['same', 'price'], ['few', 'ease'], ['big'], ['down'], ['buy'], ['change', 'hard'], ['last'], ['upgrade'], ['old'], ['run'], ['issue'], ['add'], ['connect'], ['card'], ['fit']]\n",
    "\n",
    "gf = {}\n",
    "for idx, clus in enumerate(clusters):\n",
    "    gf[idx] = {}\n",
    "    for idy, c in enumerate(clus):\n",
    "        gf[idx][idy] = c\n",
    "        key = str(idx) + str(idy)\n",
    "        g.node(key, c)\n",
    "        \n",
    "for idx, clus in enumerate(clusters):\n",
    "    for idy, c in enumerate(clus):\n",
    "        i = idy + 1\n",
    "        if idy == len(clus):\n",
    "            break\n",
    "        else:\n",
    "            key = str(idx) + str(idy)\n",
    "            key2= str(idx) + str(i)\n",
    "            g.edge(key, key2)\n",
    "g.view()"
   ]
  },
  {
   "cell_type": "code",
   "execution_count": 68,
   "metadata": {},
   "outputs": [],
   "source": [
    "t = [{'poi', 'point'}, {'turn'}, {'call'}, {'wanted'}, {'buy'}, {'tooth', 'phone'}, {'address', 'add'}, {'battery', 'routes'}, {'satellite'}, {'travel'}, {'drive'}, {'windshield', 'mount'}, {'software'}, {'screen'}, {'names', 'money', 'street'}, {'lose', 'close'}, {'part'}, {'accurate'}, {'load'}, {'real'}, {'user'}, {'hand', 'free'}, {'update', 'date'}, {'place'}, {'hear', 'signal'}, {'back'}, {'voice', 'clear'}, {'need'}, {'new'}, {'product'}, {'read'}, {'road', 'roads'}, {'easy'}, {'unit'}, {'hang', 'change'}, {'problem'}, {'ease'}, {'big'}, {'led'}, {'destination'}, {'worth'}, {'instruction'}, {'receive'}, {'short'}, {'option'}, {'eat', 'features', 'feature'}, {'trips', 'trip'}, {'traffic'}, {'pin'}, {'route'}, {'quick'}, {'ability'}, {'use'}, {'lost'}, {'hour'}, {'long'}, {'search'}, {'car'}, {'price'}, {'maps', 'map'}, {'works', 'work'}, {'low'}, {'minute'}, {'purchase'}, {'time'}, {'found'}, {'fast'}, {'view'}, {'direct', 'directions', 'direction'}, {'late'}, {'small'}, {'light'}, {'age'}, {'power'}, {'high'}, {'put'}, {'location'}, {'find'}, {'area'}]\n",
    "ls = []\n",
    "for value in t:\n",
    "    if len(value) > 1:\n",
    "        la = []\n",
    "        for v in value:\n",
    "            la.append(v)\n",
    "        ls.append(la)       "
   ]
  },
  {
   "cell_type": "code",
   "execution_count": 69,
   "metadata": {},
   "outputs": [
    {
     "data": {
      "text/plain": [
       "'cluster_edge_gps.gv.pdf'"
      ]
     },
     "execution_count": 69,
     "metadata": {},
     "output_type": "execute_result"
    }
   ],
   "source": [
    "g = Digraph('G', filename='cluster_edge_gps.gv')\n",
    "g.attr(compound='true')\n",
    "\n",
    "cont = 0\n",
    "gf = {}\n",
    "for idx, clus in enumerate(clusters):\n",
    "    gf[idx] = {}\n",
    "    for idy, c in enumerate(clus):\n",
    "        gf[idx][idy] = c\n",
    "        key = str(idx) + str(idy)\n",
    "        g.node(key, c)\n",
    "        \n",
    "for idx, clus in enumerate(clusters):\n",
    "    for idy, c in enumerate(clus):\n",
    "        i = idy + 1\n",
    "        if idy == len(clus):\n",
    "            break\n",
    "        else:\n",
    "            key = str(idx) + str(idy)\n",
    "            key2= str(idx) + str(i)\n",
    "            g.edge(key, key2)\n",
    "g.view()"
   ]
  }
 ],
 "metadata": {
  "kernelspec": {
   "display_name": "Python 3",
   "language": "python",
   "name": "python3"
  },
  "language_info": {
   "codemirror_mode": {
    "name": "ipython",
    "version": 3
   },
   "file_extension": ".py",
   "mimetype": "text/x-python",
   "name": "python",
   "nbconvert_exporter": "python",
   "pygments_lexer": "ipython3",
   "version": "3.6.12"
  }
 },
 "nbformat": 4,
 "nbformat_minor": 4
}
