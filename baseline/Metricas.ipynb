{
 "cells": [
  {
   "cell_type": "code",
   "execution_count": 70,
   "metadata": {},
   "outputs": [
    {
     "data": {
      "text/plain": [
       "'cluster_edge_cells.gv.pdf'"
      ]
     },
     "execution_count": 70,
     "metadata": {},
     "output_type": "execute_result"
    }
   ],
   "source": [
    "from graphviz import Digraph\n",
    "\n",
    "g = Digraph('G', filename='cluster_edge_cells.gv')\n",
    "g.attr(compound='true')\n",
    "\n",
    "cont = 0\n",
    "clusters = [['features', 'learn', 'cover', 'feature'], ['use', 'easy'], ['def', 'update', 'ate', 'high'], ['app', 'apps'], ['thin', 'touch', 'nothing'], ['smart', 'art'], ['long', 'power', 'light', 'top', 'weight'], ['picture', 'pictures', 'ui', 'quick'], ['problems', 'sound', 'quality', 'music', 'problem'], ['calls', 'video', 'call', 'videos'], ['fast', 'drop', 'speed', 'processor'], ['screen'], ['little', 'worth', 'function', 'fun', 'move'], ['work', 'works'], ['os'], ['off', 'hand', 'hands'], ['able'], ['days', 'slow', 'low'], ['lag', 'real'], ['right', 'size'], ['keyboard', 'time'], ['charge', 'user', 'mode', 'friendly'], ['pen', 'ring'], ['battery'], ['look', 'looking'], ['design', 'back'], ['small', 'display'], ['much'], ['camera'], ['performance', 'software'], ['large', 'pocket'], ['android', 'ton'], ['same', 'price'], ['few', 'ease'], ['big'], ['down'], ['buy'], ['change', 'hard'], ['last'], ['upgrade'], ['old'], ['run'], ['issue'], ['add'], ['connect'], ['card'], ['fit']]\n",
    "\n",
    "gf = {}\n",
    "for idx, clus in enumerate(clusters):\n",
    "    gf[idx] = {}\n",
    "    for idy, c in enumerate(clus):\n",
    "        gf[idx][idy] = c\n",
    "        key = str(idx) + str(idy)\n",
    "        g.node(key, c)\n",
    "        \n",
    "for idx, clus in enumerate(clusters):\n",
    "    for idy, c in enumerate(clus):\n",
    "        i = idy + 1\n",
    "        if idy == len(clus):\n",
    "            break\n",
    "        else:\n",
    "            key = str(idx) + str(idy)\n",
    "            key2= str(idx) + str(i)\n",
    "            g.edge(key, key2)\n",
    "g.view()"
   ]
  },
  {
   "cell_type": "code",
   "execution_count": 3,
   "metadata": {},
   "outputs": [],
   "source": [
    "t = [{'little', 'long', 'speed', 'weight'}, {'app', 'apps'}, {'much', 'problems'}, {'display', 'light', 'quick'}, {'big', 'change'}, {'use', 'user', 'friendly', 'easy'}, {'battery', 'mode'}, {'back', 'design'}, {'work', 'works'}, {'top', 'processor', 'problem'}, {'screen', 'touch'}, {'art', 'smart'}, {'music', 'calls', 'videos', 'call', 'drop'}, {'keyboard', 'hands', 'hand'}, {'performance', 'quality', 'sound'}, {'slow', 'low'}, {'off', 'move'}, {'update', 'ate'}, {'pen', 'ring'}, {'pictures', 'video'}, {'able'}, {'learn', 'features', 'cover', 'feature'}, {'picture'}, {'last', 'charge', 'function', 'days'}, {'down'}, {'high', 'fast'}, {'os'}, {'size', 'right'}, {'android', 'upgrade'}, {'def', 'time'}, {'thin', 'nothing'}, {'fun', 'software'}, {'lag', 'real'}, {'buy'}, {'look', 'power', 'looking'}, {'camera'}, {'ui'}, {'fit', 'pocket'}, {'issue'}, {'ton'}, {'connect'}, {'card'}, {'price', 'worth'}, {'large', 'small'}, {'old'}, {'run'}, {'hard'}, {'few', 'ease'}, {'same'}, {'add'}]\n",
    "ls = []\n",
    "for value in t:\n",
    "    #if len(value) > 1:\n",
    "    la = []\n",
    "    for v in value:\n",
    "        la.append(v)\n",
    "    ls.append(la)       "
   ]
  },
  {
   "cell_type": "code",
   "execution_count": 4,
   "metadata": {},
   "outputs": [
    {
     "data": {
      "text/plain": [
       "'cluster_clusters_cell_phones.gv.pdf'"
      ]
     },
     "execution_count": 4,
     "metadata": {},
     "output_type": "execute_result"
    }
   ],
   "source": [
    "from graphviz import Digraph\n",
    "g = Digraph('G', filename='cluster_clusters_cell_phones.gv')\n",
    "g.attr(compound='true')\n",
    "\n",
    "cont = 0\n",
    "gf = {}\n",
    "for idx, clus in enumerate(ls):\n",
    "    gf[idx] = {}\n",
    "    for idy, c in enumerate(clus):\n",
    "        gf[idx][idy] = c\n",
    "        key = str(idx) + str(idy)\n",
    "        g.node(key, c)\n",
    "        \n",
    "for idx, clus in enumerate(ls):\n",
    "    for idy, c in enumerate(clus):\n",
    "        i = idy + 1\n",
    "        if idy == len(clus):\n",
    "            break\n",
    "        else:\n",
    "            key = str(idx) + str(idy)\n",
    "            key2= str(idx) + str(i)\n",
    "            g.edge(key, key2)\n",
    "g.view()"
   ]
  },
  {
   "cell_type": "code",
   "execution_count": 3,
   "metadata": {},
   "outputs": [],
   "source": [
    "import time\n"
   ]
  },
  {
   "cell_type": "code",
   "execution_count": 6,
   "metadata": {},
   "outputs": [
    {
     "data": {
      "text/plain": [
       "6.103515625e-05"
      ]
     },
     "execution_count": 6,
     "metadata": {},
     "output_type": "execute_result"
    }
   ],
   "source": [
    "st = time.time()\n",
    "ed = time.time()\n",
    "ed - st"
   ]
  }
 ],
 "metadata": {
  "kernelspec": {
   "display_name": "Python 3",
   "language": "python",
   "name": "python3"
  },
  "language_info": {
   "codemirror_mode": {
    "name": "ipython",
    "version": 3
   },
   "file_extension": ".py",
   "mimetype": "text/x-python",
   "name": "python",
   "nbconvert_exporter": "python",
   "pygments_lexer": "ipython3",
   "version": "3.6.12"
  }
 },
 "nbformat": 4,
 "nbformat_minor": 4
}
