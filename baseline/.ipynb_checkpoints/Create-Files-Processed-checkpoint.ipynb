{
 "cells": [
  {
   "cell_type": "code",
   "execution_count": 1,
   "metadata": {},
   "outputs": [],
   "source": [
    "from utils.utils import *\n",
    "from preprocess.preprocess import *\n",
    "import json\n",
    "import pandas as pd"
   ]
  },
  {
   "cell_type": "code",
   "execution_count": 2,
   "metadata": {},
   "outputs": [],
   "source": [
    "product = 'TV'"
   ]
  },
  {
   "cell_type": "markdown",
   "metadata": {},
   "source": [
    "## Criando Arquivo de Documento Reviews"
   ]
  },
  {
   "cell_type": "code",
   "execution_count": 3,
   "metadata": {},
   "outputs": [
    {
     "name": "stderr",
     "output_type": "stream",
     "text": [
      "Lendo Reviews: 8000it [00:00, 1147748.66it/s]\n"
     ]
    }
   ],
   "source": [
    "documents_reviews = read_reviews(product)\n",
    "\n",
    "with open(f'./database-process/{product}/' + f'{product}_documents_reviews.json', 'w') as fp:\n",
    "    json.dump(documents_reviews, fp)\n",
    "    \n",
    "documents_reviews = read_json(f'./database-process/{product}/{product}_documents_reviews.json')"
   ]
  },
  {
   "cell_type": "markdown",
   "metadata": {},
   "source": [
    "### Extraindo candidatos explicito e implicitos"
   ]
  },
  {
   "cell_type": "code",
   "execution_count": 4,
   "metadata": {},
   "outputs": [
    {
     "name": "stderr",
     "output_type": "stream",
     "text": [
      "Extraindo Candidatos: 8000it [00:00, 28640.77it/s]\n"
     ]
    }
   ],
   "source": [
    "explicit, implicit = extract_terms_tag(product)"
   ]
  },
  {
   "cell_type": "markdown",
   "metadata": {},
   "source": [
    "### Criando arquivo de Documento Termo-Setença"
   ]
  },
  {
   "cell_type": "code",
   "execution_count": 5,
   "metadata": {},
   "outputs": [],
   "source": [
    "# explicito\n",
    "documents_terms_exp = documents_terms_setences(documents_reviews, explicit)\n",
    "with open(f'./database-process/{product}/' + f'{product}_explicit_doc_terms_setencas.json', 'w') as fp:\n",
    "    json.dump(documents_terms_exp, fp)    \n",
    "    \n",
    "# implicito\n",
    "documents_terms_imp = documents_terms_setences(documents_reviews, implicit)\n",
    "with open(f'./database-process/{product}/' + f'{product}_implicit_doc_terms_setencas.json', 'w') as fp:\n",
    "    json.dump(documents_terms_imp, fp)\n",
    "\n",
    "    \n",
    "document_terms = {}\n",
    "\n",
    "for key in document_terms_exp.keys():\n",
    "    document_terms[key] = document_terms_exp[key]\n",
    "    \n",
    "for key in documents_terms_imp.keys():\n",
    "    documents_terms_imp[key] = documents_terms_imp[key]\n",
    "    \n",
    "#with open(f'./database-process/{product}/' + f'{product}_doc_terms_setencas.json', 'w') as fp:\n",
    "#    json.dump(documents_terms_imp, fp)"
   ]
  },
  {
   "cell_type": "markdown",
   "metadata": {},
   "source": [
    "### Extraindo Frequencia do termos "
   ]
  },
  {
   "cell_type": "code",
   "execution_count": 5,
   "metadata": {},
   "outputs": [
    {
     "name": "stderr",
     "output_type": "stream",
     "text": [
      "Calculando Matriz Frequencia de Termo a Termo: 100%|██████████| 1845/1845 [16:59<00:00,  1.81it/s]\n"
     ]
    }
   ],
   "source": [
    "term_freq_term = term_frequencies_term(documents_reviews, documents_terms.keys())"
   ]
  },
  {
   "cell_type": "code",
   "execution_count": 9,
   "metadata": {},
   "outputs": [
    {
     "data": {
      "text/plain": [
       "2102"
      ]
     },
     "execution_count": 9,
     "metadata": {},
     "output_type": "execute_result"
    }
   ],
   "source": [
    "len(implicit)"
   ]
  },
  {
   "cell_type": "code",
   "execution_count": 15,
   "metadata": {},
   "outputs": [],
   "source": [
    "with open('./database-process/Cell-phones/' + 'Cell-phones_terms_freq_terms.json', 'w') as fp:\n",
    "    json.dump(term_freq_term, fp)"
   ]
  },
  {
   "cell_type": "code",
   "execution_count": 8,
   "metadata": {},
   "outputs": [
    {
     "name": "stderr",
     "output_type": "stream",
     "text": [
      "Calculando Frequência de Termos nos documentos: 100%|██████████| 1329/1329 [00:00<00:00, 6278.81it/s]\n"
     ]
    }
   ],
   "source": [
    "tf_doc = terms_frequencies_documents(documents_reviews, documents_terms.keys())\n",
    "\n",
    "with open('./database-process/Cell-phones/' + 'Cell-phones_terms_freq_doc.json', 'w') as fp:\n",
    "    json.dump(tf_doc, fp)"
   ]
  },
  {
   "cell_type": "code",
   "execution_count": null,
   "metadata": {},
   "outputs": [],
   "source": []
  },
  {
   "cell_type": "markdown",
   "metadata": {},
   "source": [
    "## READ"
   ]
  },
  {
   "cell_type": "code",
   "execution_count": 2,
   "metadata": {},
   "outputs": [],
   "source": [
    "documents_reviews = read_json('./database-process/Cell-phones/Cell-phones_documents_reviews.json')"
   ]
  },
  {
   "cell_type": "code",
   "execution_count": 3,
   "metadata": {},
   "outputs": [],
   "source": [
    "setences = extract_setences(documents_reviews)"
   ]
  },
  {
   "cell_type": "code",
   "execution_count": 4,
   "metadata": {},
   "outputs": [],
   "source": [
    "terms= extract_terms(setences)"
   ]
  },
  {
   "cell_type": "code",
   "execution_count": 5,
   "metadata": {},
   "outputs": [],
   "source": [
    "explicit, implicit = extract_candidates(terms)"
   ]
  },
  {
   "cell_type": "code",
   "execution_count": 8,
   "metadata": {},
   "outputs": [
    {
     "data": {
      "text/plain": [
       "(1833, 278)"
      ]
     },
     "execution_count": 8,
     "metadata": {},
     "output_type": "execute_result"
    }
   ],
   "source": [
    "len(explicit), len(implicit)"
   ]
  },
  {
   "cell_type": "code",
   "execution_count": 9,
   "metadata": {},
   "outputs": [
    {
     "data": {
      "text/plain": [
       "2111"
      ]
     },
     "execution_count": 9,
     "metadata": {},
     "output_type": "execute_result"
    }
   ],
   "source": [
    "1833 + 278"
   ]
  },
  {
   "cell_type": "code",
   "execution_count": null,
   "metadata": {},
   "outputs": [],
   "source": []
  },
  {
   "cell_type": "code",
   "execution_count": null,
   "metadata": {},
   "outputs": [],
   "source": []
  }
 ],
 "metadata": {
  "kernelspec": {
   "display_name": "Python 3",
   "language": "python",
   "name": "python3"
  },
  "language_info": {
   "codemirror_mode": {
    "name": "ipython",
    "version": 3
   },
   "file_extension": ".py",
   "mimetype": "text/x-python",
   "name": "python",
   "nbconvert_exporter": "python",
   "pygments_lexer": "ipython3",
   "version": "3.6.12"
  }
 },
 "nbformat": 4,
 "nbformat_minor": 4
}
