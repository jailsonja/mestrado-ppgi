{
 "cells": [
  {
   "cell_type": "code",
   "execution_count": 10,
   "metadata": {},
   "outputs": [],
   "source": [
    "import pandas as pd\n",
    "from preprocess.preprocess import *\n",
    "from utils.utils import *\n",
    "import ast\n",
    "import string\n",
    "import nltk\n",
    "from nltk.corpus import stopwords"
   ]
  },
  {
   "cell_type": "code",
   "execution_count": 4,
   "metadata": {},
   "outputs": [
    {
     "name": "stdout",
     "output_type": "stream",
     "text": [
      "True\n"
     ]
    }
   ],
   "source": [
    "temp = ('sample', 'NN')\n",
    "print(check_tag_exp(temp))"
   ]
  },
  {
   "cell_type": "code",
   "execution_count": 5,
   "metadata": {},
   "outputs": [
    {
     "name": "stdout",
     "output_type": "stream",
     "text": [
      "{'doing', 'under', 'off', \"wasn't\", 'we', 'itself', 'themselves', 'our', 'didn', 'whom', 'my', 'an', 'the', 'that', \"it's\", 'isn', 'ourselves', \"hasn't\", 'same', \"haven't\", 'yourselves', 'you', 'doesn', 'too', 'myself', 'with', 'most', \"you'd\", \"didn't\", 'himself', 'it', 'between', 'below', 'before', 'such', 'each', 'him', 'where', 'down', \"doesn't\", 'more', 'mustn', 'did', 'all', 'shan', 'who', 'll', 'aren', 'weren', \"couldn't\", 'only', 'again', \"don't\", \"wouldn't\", 'd', 'if', 'own', 'o', 'your', 'by', 'through', 'over', 'to', 'm', \"you've\", 'her', 'as', 't', 'and', 're', 'be', 'being', 'why', \"mustn't\", 'few', 'after', 'should', 'from', 'into', \"hadn't\", 'have', 'has', 'those', 'ma', 'wouldn', 'some', 'which', 'not', 'herself', 'won', 'in', 'couldn', 'just', 'up', 'she', \"you're\", 'on', 'so', 'haven', 'me', 'but', 'or', 'against', 'can', 'is', 'out', 'hadn', \"won't\", 'am', 'now', \"aren't\", 'than', 'these', 'of', 'here', \"shan't\", 'yourself', 'during', 'ain', 'i', 'once', \"isn't\", \"that'll\", 'further', 'any', 'were', 'wasn', 'are', 'then', 'yours', 'ours', 'a', 'nor', 'them', 'had', 'no', 'mightn', 'their', 'does', 's', 'this', 'his', 'both', 'will', 'while', 'needn', 'was', 'y', 'shouldn', 'about', 'been', 'other', 'hasn', \"shouldn't\", 'having', 'until', 'above', \"you'll\", 'hers', \"mightn't\", 've', 'its', \"needn't\", 'he', \"she's\", 'do', \"weren't\", 'what', 'very', 'at', 'there', 'for', 'theirs', 'don', 'they', \"should've\", 'when', 'how', 'because'}\n"
     ]
    }
   ],
   "source": [
    "stop_words = set(stopwords.words('english')) \n",
    "print(stop_words)"
   ]
  },
  {
   "cell_type": "code",
   "execution_count": 6,
   "metadata": {},
   "outputs": [],
   "source": [
    "table = str.maketrans('', '', string.punctuation)"
   ]
  },
  {
   "cell_type": "code",
   "execution_count": 9,
   "metadata": {},
   "outputs": [
    {
     "data": {
      "text/plain": [
       "'m'"
      ]
     },
     "execution_count": 9,
     "metadata": {},
     "output_type": "execute_result"
    }
   ],
   "source": [
    "w = \">m\"\n",
    "w.translate(table)"
   ]
  },
  {
   "cell_type": "code",
   "execution_count": 1,
   "metadata": {},
   "outputs": [],
   "source": [
    "t = ['design', 'big', 'large', 'freeze', 'galaxy note', 'video', 'everything', 'user', 'thank', 'wan', 'install', 'slow', 'rely', 'hd', 'couple', 'small', 'yea', 'galaxy sii', 'table', 'many', 'great', 'card', 'like', 'port', 'bout', 'feature', 'hate', 'cant', 'phone', 'ready', 'looks', 'improve', 'absolute', 'upgrade', 'gives', 'overal', 'bought', 'end', 'put', 'beautiful', 'plain', 'web', 'mp', 'pin', 'flash', 'different', 'side', 'stand', 'sun', 'want', 'gets', 'good', 'navigate', 'key', 'lots', 'light', 'smooth', 'media', 'charger', 'performance', 'command', 'got', 'ratio', 'months', 'battery life', 'ring', 'system', 'took', 'apple', 'connect', 'software', 'functions', 'features', 'years', 'game', 'sprint', 'awesome', 'owned', 'samsung galaxy', 'recommend', 'get', 'found', 'low', 'feels', 'function', 'friendly', 'os', 'things', 'hot', 'tell', 'extra', 'tablet', 'keep', 'def', 'yet', 'hours', 'believe', 'point', 'text', 'sound', 'update', 'fan', 'micro', 'poc', 'drop', 'carrier', 'durable', 'experience', 'lot', 'know', 'plastic', 'setting', 'weight', 'volume', 'ate', 'answer', 'tons', 'wish', 'place', 'videos', 'case', 'keyboard', 'high', 'made', 'complain', 'please', 'watch', 'happen', 'thought', 'size', 'sure', 'messages', 'look', 'blue', 'purchased', 'find', 'men', 'decent', 'touch', 'easy', 'money', 'excellent', 'compare', 'problem', 'led', 'wo', 'run', 'outstandin', 'life', 'ones', 'smart phone', 'use', 'really', 'products', 'figure', 'year', 'new', 'else', 'learn', 'offer', 'memory', 'turn', 'mobile', 'replace', 'view', 'photo', 'hand', 'support', 'hi', 'time', 'market', 'line', 'cover', 'available', 'akin', 'droid', 'message', 'favor', 'photos', 'better', 'pocket', 'contract', 'processor', 'much', 'need', 'simple', 'one', 'camera', 'using', 'disappoint', 'ended', 'bean', 'ces', 'top', 'set', 'go', 'works', 'finger', 'feel', 'sign', 'mode', 'next', 'power', 'core', 'love', 'poor', 'version', 'loaded', 'board', 'makes', 'screen size', 'anyone', 'huge', 'take', 'spen', 'special', 'samsung', 'never', 'let', 'well', 'lower', 'picture', 'best phone', 'man', 'person', 'including', 'screen', 'eased', 'business', 'reason', 'ok', 'ect', 'getting', 'gen', 'seems', 'voice', 'takes', 'thin', 'pictures', 'smartphone', 'someone', 'cheap', 'looking', 'job', 'form', 'product', 'con', 'would', 'yes', 'give', 'fun', 'hold', 'came', 'least', 'hour', 'constant', 'ive', 'read', 'pretty', 'expect', 'impressed', 'help', 'test', 'price', 'mont', 'samsung product', 'speaker', 'fantastic', 'cell phone', 'complaint', 'lock', 'needs', 'pro', 'nothing', 'playing', 'cell', 'spend', 'used', 'think', 'worth', 'round', 'free', 'comes', 'charge', 'service', 'old', 'devices', 'make', 'ton', 'verizon', 'amazing', 'note', 'anything', 'pressed', 'android', 'speed', 'un', 'open', 'option', 'working', 'load', 'ease', 'thing', 'device', 'change', 'see', 'everyone', 'move', 'overall', 'times', 'month', 'friends', 'mos', 'important', 'iphone', 'application', 'coming', 'mind', 'seem', 'hope', 'people', 'long', 'perfect', 'download', 'best', 'work', 'nice', 'clear', 'pen', 'mess', 'quite', 'button', 'week', 'home', 'bigger', 'perform', 'real', 'share', 'tech', 'battery', 'larger', 'cool', 'going', 'date', 'drive', 'hands', 'applications', 'able', 'enough', 'wanted', 'print', 'ends', 'friend', 'problems', 'review', 'come', 'memo', 'son', 'ran', 'little', 'super', 'done', 'rom', 'internet', 'issues', 'ever', 'phones', 'cons', 'less', 'allow', 'admit', 'asking', 'wake', 'wrong', 'dont', 'crisp', 'darn', 'sales', 'level', 'calling', 'opinion', 'doors', 'rock', 'bulky', 'nov', 'weeks', 'fell', 'alarm', 'upgrading', 'living', 'blown', 'access', 'meet', 'cable', 'world', 'pants', 'show', 'follow', 'motion', 'gave', 'color', 'signal', 'samsungs', 'google', 'save', 'live', 'turns', 'remove', 'near', 'receive', 'buttons', 'provide', 'doubts', 'fluid', 'stop', 'front', 'ios', 'speeds', 'didnt', 'envy', 'making', 'writing', 'jb', 'fancy', 'wear', 'finding', 'appear', 'cost', 'occasion', 'check', 'bread', 'box', 'kept', 'called', 'songs', 'blows', 'incoming', 'driver', 'rare', 'skin', 'views', 'texts', 'buyer', 'sync', 'handy', 'brand', 'oh', 'hopping', 'player', 'audio', 'clock', 'info', 'moving', 'nfc', 'program', 'icons', 'users', 'everyday', 'owning', 'night', 'ticking', 'eats', 'reader', 'contact', 'choosing', 'laptop', 'alot', 'leave', 'missing', 'sleep', 'break', 'pros', 'galaxy s5', 'waiting', 'value', 'pain', 'wants', 'forum', 'pop', 'specs', 'vibrant', 'lovin', 'send', 'hoping', 'useful', 'grain', 'tube', 'sounds', 'plan', 'knows', 'keeps', 'taking', 'snappy', 'click', 'colorful', 'type', 'junk', 'expected', 'slot', 'worst', 'average', 'books', 'body', 'lied', 'seen', 'beam', 'wow', 'file', 'several', 'shows', 'lying', 'thinking', 'boot', 'left', 'uses', 'drops', 'options', 'drawback', 'lol', 'due', 'manual', 'piece', 'bottom', 'stylus', 'giving', 'sleek', 'deal', 'early', 'wise', 'areas', 'typing', 'sell', 'helpful', 'touch wiz', 'throw', 'rocks', 'heavy', 'keys', 'accept', 'bump', 'main', 'plug', 'lightning', 'loving', 'became', 'tried', 'gon', 'wife', 'paper', 'owns', 'games', 'non', 'etc', 'inch', 'hdmi', 'turning', 'eh', 'doubt', 'fine', 'hspa', 'root', 'bummer', 'area', 'ghz', 'freezes', 'desk', 'exceeded', 'added', 'kind', 'rating', 'regular', 'idea', 'running', 'push', 'future', 'defect', 'major', 'care', 'sbeam', 'release', 'snap', 'decided', 'eyes', 'trying', 'quest', 'truth', 'hook', 'minor', 'range', 'loud', 'space', 'heats', 'tiny', 'needing', 'amazed', 'cpu', 'roll', 'usage', 'prior', 'bulk', 'ford', 'useless', 'skype', 'carrying']"
   ]
  },
  {
   "cell_type": "code",
   "execution_count": 2,
   "metadata": {},
   "outputs": [
    {
     "data": {
      "text/plain": [
       "604"
      ]
     },
     "execution_count": 2,
     "metadata": {},
     "output_type": "execute_result"
    }
   ],
   "source": [
    "len(t)"
   ]
  }
 ],
 "metadata": {
  "kernelspec": {
   "display_name": "Python 3",
   "language": "python",
   "name": "python3"
  },
  "language_info": {
   "codemirror_mode": {
    "name": "ipython",
    "version": 3
   },
   "file_extension": ".py",
   "mimetype": "text/x-python",
   "name": "python",
   "nbconvert_exporter": "python",
   "pygments_lexer": "ipython3",
   "version": "3.6.12"
  }
 },
 "nbformat": 4,
 "nbformat_minor": 4
}
